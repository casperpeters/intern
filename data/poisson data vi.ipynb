{
 "cells": [
  {
   "cell_type": "code",
   "execution_count": 1,
   "metadata": {
    "collapsed": true
   },
   "outputs": [],
   "source": [
    "import torch\n",
    "import numpy as np\n",
    "from tqdm import tqdm\n",
    "from scipy.stats.distributions import chi2\n",
    "from scipy.stats import pearsonr\n",
    "import pickle\n",
    "\n",
    "import matplotlib.pyplot as plt\n",
    "from scipy.stats import linregress\n",
    "import seaborn as sns\n",
    "import random\n",
    "import matplotlib.animation as animation\n",
    "import sys, os\n",
    "\n",
    "from utils.plots import *\n",
    "from utils.funcs import *\n",
    "from utils.visualize_network import *\n",
    "from utils.visualize_hidden_network import *\n",
    "\n",
    "from boltzmann_machines.cp_rtrbm import RTRBM\n",
    "from boltzmann_machines.cp_rbm import RBM\n",
    "\n",
    "from data.load_data import *\n",
    "from data.mock_data import *\n",
    "from data.reshape_data import *\n",
    "from data.poisson_data_v import PoissonTimeShiftedData\n",
    "from utils.moments_plot import infer_and_get_moments_plot\n",
    "\n"
   ]
  },
  {
   "cell_type": "code",
   "execution_count": null,
   "outputs": [
    {
     "name": "stdout",
     "output_type": "stream",
     "text": [
      "NOTE: Inhibitory connections are large, firing rate after interaction have reached >-240.00 Hz, but are now bounded\n",
      "Hint: lower temporal connectivity (increase corr) or increase sparcity in the temporal connectivity\n"
     ]
    },
    {
     "name": "stderr",
     "output_type": "stream",
     "text": [
      " 80%|████████  | 8/10 [00:37<00:09,  4.57s/it]"
     ]
    }
   ],
   "source": [
    "n_h = 6\n",
    "duration = 370\n",
    "dt = 1e-2\n",
    "\n",
    "C = np.array([0.1, 0.3, 0.6, 1, 1.5, 2, 2.5, 5, 7, 10, 15, 20, 30])\n",
    "N_machines = 2\n",
    "O = np.zeros([len(C), 2, n_h])\n",
    "r2v = np.zeros([len(C), N_machines])\n",
    "r2v2, r2h, r2h2, r2vh = np.zeros_like(r2v), np.zeros_like(r2v), np.zeros_like(r2v), np.zeros_like(r2v)\n",
    "\n",
    "for i, corr in enumerate(C):\n",
    "    for n in range(N_machines):\n",
    "        s = PoissonTimeShiftedData(\n",
    "            neurons_per_population=20,\n",
    "            n_populations=n_h,\n",
    "            n_batches=1,\n",
    "            duration=duration, dt=dt,\n",
    "            fr_mode='gaussian', delay=1, temporal_connections='random', corr=corr, show_connection=False, compute_overlap=True,\n",
    "            fr_range=[50, 100], mu_range=[0, duration], std_range=[2 * dt, 3 * dt], n_range=[0.005, 0.03])\n",
    "        O[i, n, :] = torch.mean(s.overlap_distribution)\n",
    "        data = reshape(s.data[..., 0], 100, 370)\n",
    "        train, test = data[..., :300], data[..., 300:]\n",
    "        rtrbm = RTRBM(train, N_H=n_h, device='cpu')\n",
    "        rtrbm.learn(n_epochs=10, lr_schedule='geometric_decay', batch_size=10, CDk=10, mom=0.6, wc=0, min_lr=5e-4, max_lr=5e-3, sp=1e-6, x=2)\n",
    "        path2dir = r'C:\\Users\\sebas\\OneDrive\\Intern\\rtrbm_master\\results\\Poisson Artificial Data'\n",
    "        torch.save(rtrbm, path2dir + r'\\rtrbm_corr'+str(corr)+'_n'+str(n))\n",
    "        torch.save([s, train, test], path2dir + r'\\PMT_train_test_corr'+str(corr)+'_n'+str(n))\n",
    "        [vt, vs, ht, hs], [r2v[i, n], r2v2[i, n], r2h[i, n], r2h2[i, n], r2vh[i, n]] =  infer_and_get_moments_plot(path2dir+ r'\\rtrbm_corr'+str(corr)+'_n'+str(n), test=test, pre_gibbs_k=100, gibbs_k=100, mode=1, n_batches=None, n=1000, m=50000, plot=False, machine='rtrbm')\n"
   ],
   "metadata": {
    "collapsed": false,
    "pycharm": {
     "name": "#%%\n",
     "is_executing": true
    }
   }
  }
 ],
 "metadata": {
  "kernelspec": {
   "display_name": "Python 3",
   "language": "python",
   "name": "python3"
  },
  "language_info": {
   "codemirror_mode": {
    "name": "ipython",
    "version": 2
   },
   "file_extension": ".py",
   "mimetype": "text/x-python",
   "name": "python",
   "nbconvert_exporter": "python",
   "pygments_lexer": "ipython2",
   "version": "2.7.6"
  }
 },
 "nbformat": 4,
 "nbformat_minor": 0
}