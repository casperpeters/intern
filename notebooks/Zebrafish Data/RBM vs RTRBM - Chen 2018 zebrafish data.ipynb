{
 "cells": [
  {
   "cell_type": "markdown",
   "id": "9b3c1f52",
   "metadata": {},
   "source": [
    "# A comparison on how the cRBM and the cRTRBM explain the underlying structure and dynamics in zebrafish data"
   ]
  },
  {
   "cell_type": "code",
   "execution_count": 3,
   "id": "55a9aace",
   "metadata": {},
   "outputs": [
    {
     "ename": "ModuleNotFoundError",
     "evalue": "No module named 'utils.plots'; 'utils' is not a package",
     "output_type": "error",
     "traceback": [
      "\u001B[1;31m---------------------------------------------------------------------------\u001B[0m",
      "\u001B[1;31mModuleNotFoundError\u001B[0m                       Traceback (most recent call last)",
      "\u001B[1;32m~\\AppData\\Local\\Temp/ipykernel_12616/3566709877.py\u001B[0m in \u001B[0;36m<module>\u001B[1;34m\u001B[0m\n\u001B[0;32m     13\u001B[0m \u001B[0msys\u001B[0m\u001B[1;33m.\u001B[0m\u001B[0mpath\u001B[0m\u001B[1;33m.\u001B[0m\u001B[0mappend\u001B[0m\u001B[1;33m(\u001B[0m\u001B[1;34mr'D:\\OneDrive\\RU\\Intern\\rtrbm_master'\u001B[0m\u001B[1;33m)\u001B[0m\u001B[1;33m\u001B[0m\u001B[1;33m\u001B[0m\u001B[0m\n\u001B[0;32m     14\u001B[0m \u001B[1;33m\u001B[0m\u001B[0m\n\u001B[1;32m---> 15\u001B[1;33m \u001B[1;32mfrom\u001B[0m \u001B[0mutils\u001B[0m\u001B[1;33m.\u001B[0m\u001B[0mplots\u001B[0m \u001B[1;32mimport\u001B[0m \u001B[1;33m*\u001B[0m\u001B[1;33m\u001B[0m\u001B[1;33m\u001B[0m\u001B[0m\n\u001B[0m\u001B[0;32m     16\u001B[0m \u001B[1;32mfrom\u001B[0m \u001B[0mboltzmann_machines\u001B[0m\u001B[1;33m.\u001B[0m\u001B[0mRTRBM\u001B[0m \u001B[1;32mimport\u001B[0m \u001B[0mRTRBM\u001B[0m\u001B[1;33m\u001B[0m\u001B[1;33m\u001B[0m\u001B[0m\n\u001B[0;32m     17\u001B[0m \u001B[1;32mfrom\u001B[0m \u001B[0mboltzmann_machines\u001B[0m\u001B[1;33m.\u001B[0m\u001B[0mRBM\u001B[0m \u001B[1;32mimport\u001B[0m \u001B[0mRBM\u001B[0m\u001B[1;33m\u001B[0m\u001B[1;33m\u001B[0m\u001B[0m\n",
      "\u001B[1;31mModuleNotFoundError\u001B[0m: No module named 'utils.plots'; 'utils' is not a package"
     ]
    }
   ],
   "source": [
    "%matplotlib inline\n",
    "import torch\n",
    "import numpy as np\n",
    "import matplotlib.pyplot as plt\n",
    "import pickle\n",
    "from matplotlib.pyplot import figure\n",
    "import seaborn as sns\n",
    "from tqdm import tqdm\n",
    "import h5py\n",
    "plt.rcParams['figure.figsize'] = [8, 5]\n",
    "\n",
    "import sys\n",
    "sys.path.append(r'D:\\OneDrive\\RU\\Intern\\rtrbm_master')\n",
    "\n",
    "from utils.plots import *\n",
    "from boltzmann_machines.RTRBM import RTRBM\n",
    "from boltzmann_machines.RBM import RBM\n",
    "from utils.funcs import *\n",
    "from utils.visualize_hidden_network import *\n",
    "from utils.create_param_class import Parameters\n",
    "from utils.reshape_data import *\n",
    "\n",
    "\n",
    "import os\n",
    "os.environ[\"KMP_DUPLICATE_LIB_OK\"]=\"TRUE\"\n",
    "path = os.path.dirname(os.getcwd())\n",
    "\n",
    "num_data_sets = 18\n",
    "device = 'cuda' if torch.cuda.is_available() else 'cpu'\n",
    "print('Using {} device'.format(device))\n",
    "torch.cuda.set_device(1)\n",
    "torch.cuda.current_device()\n"
   ]
  },
  {
   "cell_type": "markdown",
   "id": "ea8e979a",
   "metadata": {},
   "source": [
    "## Import zebrafish surrogate data, train cRBM and cRTRBM and save the parameters\n"
   ]
  },
  {
   "cell_type": "code",
   "execution_count": null,
   "id": "17861c6e",
   "metadata": {},
   "outputs": [
    {
     "name": "stderr",
     "output_type": "stream",
     "text": [
      "  0%|          | 0/18 [00:00<?, ?it/s]<ipython-input-2-51fc738939f7>:38: UserWarning: To copy construct from a tensor, it is recommended to use sourceTensor.clone().detach() or sourceTensor.clone().detach().requires_grad_(True), rather than torch.tensor(sourceTensor).\n",
      "  train_data = torch.tensor(train_data, device=device)\n",
      "<ipython-input-2-51fc738939f7>:39: UserWarning: To copy construct from a tensor, it is recommended to use sourceTensor.clone().detach() or sourceTensor.clone().detach().requires_grad_(True), rather than torch.tensor(sourceTensor).\n",
      "  test_data = torch.tensor(test_data, device=device)\n",
      "<ipython-input-2-51fc738939f7>:53: UserWarning: To copy construct from a tensor, it is recommended to use sourceTensor.clone().detach() or sourceTensor.clone().detach().requires_grad_(True), rather than torch.tensor(sourceTensor).\n",
      "  train_data = torch.tensor(train_data, device=device)\n",
      "<ipython-input-2-51fc738939f7>:54: UserWarning: To copy construct from a tensor, it is recommended to use sourceTensor.clone().detach() or sourceTensor.clone().detach().requires_grad_(True), rather than torch.tensor(sourceTensor).\n",
      "  test_data = torch.tensor(test_data, device=device)\n",
      "  6%|▌         | 1/18 [21:31<6:05:49, 1291.14s/it]"
     ]
    }
   ],
   "source": [
    "# initialize class to save parameters\n",
    "cRBM_parameters = Parameters()\n",
    "cRTRBM_parameters = Parameters()\n",
    "\n",
    "# define number of hiddens and epochs  \n",
    "N_H = 40\n",
    "n_epochs = 300\n",
    "num_data_sets = 18\n",
    "\n",
    "for i in tqdm(range(1,num_data_sets+1)):\n",
    "    \n",
    "    # import data\n",
    "    data = h5py.File('/mnt/data/zebrafish/chen2018/subject_' +str(i)+'/Deconvolved/subject_'+str(i)+'_reconv_spikes.h5', 'r')\n",
    "\n",
    "    # define coordinates and spikes\n",
    "    spikes = torch.tensor(data['Data']['spikes'])\n",
    "    xyz = torch.tensor(data['Data']['coords'])\n",
    "\n",
    "    # disregard neurons that dont fire \n",
    "    xyz = xyz[torch.sum(spikes,1)!=0, :]\n",
    "    spikes = spikes[torch.sum(spikes,1)!=0, :]\n",
    "\n",
    "    # reduce dataset by taking voxels\n",
    "    [voxel_spike, voxel_xyz] =  make_voxel_xyz(n = 25, spikes = spikes, xyz = xyz , mode = 1, fraction = 0.1, disable_tqdm = True)\n",
    "\n",
    "    # make the spiking behaviour binairy\n",
    "    spike_thres = torch.sort(voxel_spike.ravel(), descending=True)[0][int(np.ceil(0.15*(voxel_spike.shape[0]*voxel_spike.shape[1])))]\n",
    "    voxel_spike[voxel_spike<=spike_thres] = 0\n",
    "    voxel_spike[voxel_spike>spike_thres] = 1\n",
    "    N_V, T = voxel_spike.shape\n",
    "\n",
    "    # reshape data in train and test batches\n",
    "    train_data, test_data = generate_train_test(voxel_spike, train_data_ratio=0.75, mode=1)\n",
    "\n",
    "    # transfer dataset to cudo GPU:1\n",
    "    torch.cuda.set_device(1)\n",
    "    device='cuda:1'\n",
    "    train_data = torch.tensor(train_data, device=device)\n",
    "    test_data = torch.tensor(test_data, device=device)\n",
    "    \n",
    "    # define cRBM and train on GPU:1\n",
    "    cRBM = RBM(train_data, N_H=N_H, device = device)\n",
    "    cRBM.learn(n_epochs=n_epochs, lr=1e-4, sp=3e-4, x=1, batchsize= 1, disable_tqdm = True)\n",
    "    cRBM.add_test_data_to_class(test_data)\n",
    "    cRBM.add_xyz_to_class(voxel_xyz)\n",
    "    \n",
    "    # CRBM\n",
    "    pickle.dump(cRBM, open(path + '/Results/cRBM_40HU_lr1e-4_sp3e-4_x1_subject_'+str(i), 'wb'))\n",
    "\n",
    "    # transfer dataset in batches to cudo GPU:0\n",
    "    torch.cuda.set_device(0)\n",
    "    device='cuda:0'\n",
    "    train_data = torch.tensor(train_data, device=device)\n",
    "    test_data = torch.tensor(test_data, device=device)\n",
    "\n",
    "    # define cRTRBM and train on GPU:0\n",
    "    cRTRBM = RTRBM(train_data, N_H=N_H, device = device)\n",
    "    cRTRBM.learn(n_epochs=n_epochs, lr=1e-4, sp=3e-5, x=2, batchsize=1, disable_tqdm = True)\n",
    "    cRTRBM.add_test_data_to_class(test_data)\n",
    "    cRTRBM.add_xyz_to_class(voxel_xyz)\n",
    "\n",
    "    # Safe cRTRBM class\n",
    "    pickle.dump(cRTRBM, open(path + '/Results/cRTRBM_40HU_lr1e-4_sp3e-5_x2_subject_'+str(i), 'wb'))\n"
   ]
  },
  {
   "cell_type": "markdown",
   "id": "e3c0e435",
   "metadata": {},
   "source": [
    "##  VH, spikes grouped by strongest connecting HU and hidden unit activity of the cRBM"
   ]
  },
  {
   "cell_type": "code",
   "execution_count": null,
   "id": "0f830e66",
   "metadata": {},
   "outputs": [],
   "source": [
    "for i in range(1,num_data_sets+1):\n",
    "    cRBM = pickle.load(open(path + '/Results/cRBM_40HU_lr1e-4_sp3e-4_x1_subject_'+str(i), 'rb'))\n",
    "    T = cRBM.data.shape[1]\n",
    "    rt = torch.zeros(cRBM.N_H, T)\n",
    "    for t in range(T):\n",
    "        rt[:, t], _ = cRBM.visible_to_hidden(cRBM.data[:,t])\n",
    "    \n",
    "\n",
    "    plot_spikes_grouped_by_HU(VH=cRBM.W.cpu(), V=cRBM.data.cpu(), H=rt)"
   ]
  },
  {
   "cell_type": "markdown",
   "id": "ff66be27",
   "metadata": {},
   "source": [
    "##  VH, spikes grouped by strongest connecting HU and hidden unit activity of the cRTRBM"
   ]
  },
  {
   "cell_type": "code",
   "execution_count": null,
   "id": "7fb4c626",
   "metadata": {},
   "outputs": [],
   "source": [
    "for i in range(1,num_data_sets+1):\n",
    "    device='cuda:0'\n",
    "    cRTRBM = pickle.load(open(path + '/Results/cRTRBM_40HU_lr1e-4_sp3e-5_x2_subject_'+str(i), 'rb'))\n",
    "    a = cRTRBM.V.shape\n",
    "    rt = torch.zeros([cRTRBM.N_H, a[1]*a[2]])\n",
    "    V = torch.zeros([a[0], a[1]*a[2]])\n",
    "    for j in range(a[2]):\n",
    "        rt[:,a[1]*j:a[1]*(j+1)] = cRTRBM.visible_to_expected_hidden(cRTRBM.V[:,:,j])\n",
    "        V[:,a[1]*j:a[1]*(j+1)] = cRTRBM.V[:,:,j]\n",
    "    plot_spikes_grouped_by_HU(VH=cRTRBM.W.cpu(), V=V.cpu(), H=rt.cpu())"
   ]
  },
  {
   "cell_type": "markdown",
   "id": "67770c75",
   "metadata": {},
   "source": [
    "## Receptive field cRBM"
   ]
  },
  {
   "cell_type": "code",
   "execution_count": null,
   "id": "a31ca204",
   "metadata": {
    "scrolled": true
   },
   "outputs": [],
   "source": [
    "%matplotlib inline\n",
    "import matplotlib as mpl\n",
    "\n",
    "for subject in range(1, num_data_sets+1):\n",
    "    cRBM = pickle.load(open(path + '/Results/cRBM_40HU_lr1e-4_sp3e-4_x1_subject_'+str(subject), 'rb'))\n",
    "\n",
    "    VH = cRBM.W.cpu().clone()\n",
    "    coordinates = cRBM.xyz\n",
    "    \n",
    "    VH[VH<0] = 0\n",
    "\n",
    "    rf = get_hidden_mean_receptive_fields(VH, coordinates)\n",
    "    fig, ax = plt.subplots(figsize=(6,6))\n",
    "\n",
    "    ax.scatter(coordinates[:, 0], coordinates[:, 1], s =20, edgecolors = 'b')\n",
    "    ax.scatter(rf[:, 0], rf[:, 1], s=20, edgecolors = 'r')\n",
    "\n",
    "    ax.set_xlabel('x')\n",
    "    ax.set_ylabel('y')\n",
    "    plt.show()\n"
   ]
  },
  {
   "cell_type": "code",
   "execution_count": null,
   "id": "5f5540d7",
   "metadata": {},
   "outputs": [],
   "source": [
    "import matplotlib as mpl\n",
    "\n",
    "for subject in range(1, num_data_sets+1):\n",
    "    cRBM = pickle.load(open(path + '/Results/cRBM_40HU_lr1e-4_sp3e-4_x1_subject_'+str(subject), 'rb'))\n",
    "\n",
    "    VH = cRBM.W.cpu().detach().clone()\n",
    "    coordinates = cRBM.xyz.detach().clone()\n",
    "    fig, ax = plt.subplots(16, 4, figsize=(22, 70))\n",
    "    max_hidden_connection = torch.max(VH, 0)[1]\n",
    "    strong_thresh = 0.5 * torch.std(VH)\n",
    "    h = 0\n",
    "    for i in range(16):\n",
    "        for j in range(4):\n",
    "            idx_p = (max_hidden_connection==h)*(VH[h,:] >  strong_thresh)\n",
    "            idx_m = (max_hidden_connection==h)*(VH[h,:] < -strong_thresh)\n",
    "            #idx_not_p = (max_hidden_connection==h)*((VH[h,:] <=  strong_thresh) & (VH[h,:]>0))\n",
    "            #idx_not_m = (max_hidden_connection==h)*((VH[h,:] >= -strong_thresh) & (VH[h,:]<0))\n",
    "            \n",
    "            ax[i,j].scatter(coordinates[:,0], coordinates[:,1], s=15, color = 'blue', alpha=0.01)\n",
    "\n",
    "            ax[i,j].scatter(coordinates[idx_p,0], coordinates[idx_p,1], s=25, color = 'green', marker='^')\n",
    "            ax[i,j].scatter(coordinates[idx_m,0], coordinates[idx_m,1], s=25, color = 'red', marker=\"v\")\n",
    "\n",
    "            #ax[i,j].scatter(coordinates[idx_not_p,0], coordinates[idx_not_p,1], s=25, color = 'red', marker='^', alpha=0.3)\n",
    "            #ax[i,j].scatter(coordinates[idx_not_m,0], coordinates[idx_not_m,1], s=25, color = 'red', marker=\"v\", alpha=0.3)\n",
    "                \n",
    "            h +=1\n",
    "            \n",
    "    #mpl.style.use('seaborn')"
   ]
  },
  {
   "cell_type": "markdown",
   "id": "1827e4db",
   "metadata": {},
   "source": [
    "## Receptive field cRTRBM"
   ]
  },
  {
   "cell_type": "code",
   "execution_count": null,
   "id": "77af0cbc",
   "metadata": {},
   "outputs": [],
   "source": [
    "%matplotlib inline\n",
    "import matplotlib as mpl\n",
    "\n",
    "for i in range(1, num_data_sets+1):\n",
    "    cRTRBM = pickle.load(open(path + '/Results/cRTRBM_40HU_lr1e-4_sp3e-5_x2_subject_'+str(i), 'rb'))\n",
    "    VH = cRTRBM.W.cpu().clone()\n",
    "    coordinates = cRTRBM.xyz.cpu().clone()\n",
    "\n",
    "    VH[VH<0] = 0\n",
    "\n",
    "    rf = get_hidden_mean_receptive_fields(VH, coordinates)\n",
    "    fig, ax = plt.subplots(figsize=(8,8))\n",
    "\n",
    "    ax.scatter(coordinates[:, 0], coordinates[:, 1], s =20, edgecolors = 'b')\n",
    "    ax.scatter(rf[:, 0], rf[:, 1], s=20, edgecolors = 'r')\n",
    "\n",
    "    ax.set_xlabel('x')\n",
    "    ax.set_ylabel('y')\n",
    "    plt.show()\n",
    "\n"
   ]
  },
  {
   "cell_type": "code",
   "execution_count": null,
   "id": "38afac6d",
   "metadata": {},
   "outputs": [],
   "source": [
    "for subject in range(1, num_data_sets+1):\n",
    "    cRTRBM = pickle.load(open(path + '/Results/cRTRBM_40HU_lr1e-4_sp3e-5_x2_subject_'+str(i), 'rb'))\n",
    "    VH = cRTRBM.W.cpu().clone()\n",
    "    coordinates = cRTRBM.xyz.cpu().clone()\n",
    "    fig, ax = plt.subplots(16, 4, figsize=(22, 70))\n",
    "    max_hidden_connection = torch.max(VH, 0)[1]\n",
    "    strong_thresh = 0.5 * torch.std(VH)\n",
    "    h = 0\n",
    "    for i in range(16):\n",
    "        for j in range(4):\n",
    "            idx_p = (max_hidden_connection==h)*(VH[h,:] >  strong_thresh)\n",
    "            idx_m = (max_hidden_connection==h)*(VH[h,:] < -strong_thresh)\n",
    "            #idx_not_p = (max_hidden_connection==h)*((VH[h,:] <=  strong_thresh) & (VH[h,:]>0))\n",
    "            #idx_not_m = (max_hidden_connection==h)*((VH[h,:] >= -strong_thresh) & (VH[h,:]<0))\n",
    "            \n",
    "            ax[i,j].scatter(coordinates[:,0], coordinates[:,1], s=15, color = 'blue', alpha=0.01)\n",
    "\n",
    "            ax[i,j].scatter(coordinates[idx_p,0], coordinates[idx_p,1], s=25, color = 'green', marker='^')\n",
    "            ax[i,j].scatter(coordinates[idx_m,0], coordinates[idx_m,1], s=25, color = 'red', marker=\"v\")\n",
    "\n",
    "            #ax[i,j].scatter(coordinates[idx_not_p,0], coordinates[idx_not_p,1], s=25, color = 'red', marker='^', alpha=0.3)\n",
    "            #ax[i,j].scatter(coordinates[idx_not_m,0], coordinates[idx_not_m,1], s=25, color = 'red', marker=\"v\", alpha=0.3)\n",
    "                \n",
    "            h +=1\n",
    "            \n",
    "    #mpl.style.use('seaborn')"
   ]
  },
  {
   "cell_type": "code",
   "execution_count": null,
   "id": "a1297df3",
   "metadata": {
    "scrolled": false
   },
   "outputs": [],
   "source": [
    "#del create_plot, line_between_two_neurons\n",
    "#from utils.visualize_hidden_network import create_plot\n",
    "\n",
    "#create_plot(crtrbm.W, crtrbm.W_acc, rf, coordinates, dy=0.1, markersize_visibles=50, hiddens_radius=0.04)"
   ]
  },
  {
   "cell_type": "markdown",
   "id": "9a1f81e4",
   "metadata": {},
   "source": [
    "## Compare the moments of the cRBM and the cRTRBM"
   ]
  },
  {
   "cell_type": "code",
   "execution_count": null,
   "id": "4053842f",
   "metadata": {},
   "outputs": [],
   "source": [
    "for i in range(1, num_data_sets+1):\n",
    "    cRTRBM = pickle.load(open(path + '/Results/cRTRBM_40HU_lr1e-4_sp3e-5_x2_subject_'+str(i), 'rb'))\n",
    "    cRBM = pickle.load(open(path + '/Results/cRBM_40HU_lr1e-4_sp3e-4_x1_subject_'+str(i), 'rb'))\n",
    "    idx = np.random.randint(0, cRTRBM.V.shape[2]+1)\n",
    "    \n",
    "    train_data = cRTRBM.V[:,:,idx].detach().clone()\n",
    "    train_data = train_data[:,:,None]\n",
    "    test_data = cRTRBM.test_data[:,:,idx].detach().clone()\n",
    "    test_data = test_data[:,:,None]\n",
    "    \n",
    "    n_batches = train_data.shape[2]\n",
    "    plot_compare_moments(cRBM, cRTRBM, train_data, test_data, MC_chains=n_batches, \\\n",
    "                         chain=50, pre_gibbs_k=10, gibbs_k=20, config_mode=2)"
   ]
  },
  {
   "cell_type": "code",
   "execution_count": null,
   "id": "8de4d641",
   "metadata": {},
   "outputs": [],
   "source": []
  }
 ],
 "metadata": {
  "kernelspec": {
   "display_name": "Python 3",
   "language": "python",
   "name": "python3"
  },
  "language_info": {
   "codemirror_mode": {
    "name": "ipython",
    "version": 3
   },
   "file_extension": ".py",
   "mimetype": "text/x-python",
   "name": "python",
   "nbconvert_exporter": "python",
   "pygments_lexer": "ipython3",
   "version": "3.8.8"
  }
 },
 "nbformat": 4,
 "nbformat_minor": 5
}