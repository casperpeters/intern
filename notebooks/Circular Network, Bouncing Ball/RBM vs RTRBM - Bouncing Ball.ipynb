{
 "cells": [
  {
   "cell_type": "code",
   "execution_count": 1,
   "id": "5e847c98",
   "metadata": {},
   "outputs": [
    {
     "data": {
      "text/plain": [
       "\"\\nto dump:\\n\\npath = os.path.dirname(os.getcwd())\\npickle.dump(rtrbm, open(path + '\\\\results\\\\RTRBMs\\\\RTRBMs1', 'wb'))\\n\\nto load:\\n\\ncheck1 = pickle.load(open(path + '\\\\results\\\\RTRBMs\\\\RTRBMs1', 'rb'))\\n\""
      ]
     },
     "execution_count": 1,
     "metadata": {},
     "output_type": "execute_result"
    }
   ],
   "source": [
    "import torch\n",
    "import numpy as np\n",
    "from tqdm import tqdm\n",
    "from scipy.stats.distributions import chi2\n",
    "from scipy.stats import pearsonr\n",
    "import pickle\n",
    "\n",
    "import matplotlib.pyplot as plt\n",
    "from scipy.stats import linregress\n",
    "import seaborn as sns\n",
    "import random\n",
    "import matplotlib.animation as animation\n",
    "import sys, os\n",
    "\n",
    "path = os.path.dirname(os.getcwd())\n",
    "sys.path.append(path)\n",
    "\n",
    "from utils.plots import *\n",
    "from utils.funcs import *\n",
    "from utils.visualize_network import *\n",
    "from utils.visualize_hidden_network import *\n",
    "\n",
    "from boltzmann_machines.RTRBM import RTRBM\n",
    "from boltzmann_machines.RBM import RBM\n",
    "\n",
    "from data.load_data import *\n",
    "from data.mock_data import *\n",
    "from data.reshape_data import *\n",
    "\n",
    "# spikes, behavior, coordinates, df, stimulus = loaddata()\n",
    "\n",
    "\"\"\"\n",
    "to dump:\n",
    "\n",
    "path = os.path.dirname(os.getcwd())\n",
    "pickle.dump(rtrbm, open(path + '\\\\results\\\\RTRBMs\\\\RTRBMs1', 'wb'))\n",
    "\n",
    "to load:\n",
    "\n",
    "check1 = pickle.load(open(path + '\\\\results\\\\RTRBMs\\\\RTRBMs1', 'rb'))\n",
    "\"\"\""
   ]
  },
  {
   "cell_type": "code",
   "execution_count": 18,
   "id": "edcf2a58",
   "metadata": {},
   "outputs": [],
   "source": [
    "data = create_BB(N_V=10, T=16, n_samples=256, width_vec=[4, 5], velocity_vec=[1, 2], boundary=True, r=2)"
   ]
  },
  {
   "cell_type": "code",
   "execution_count": 19,
   "id": "bbcb4ee5",
   "metadata": {},
   "outputs": [
    {
     "data": {
      "text/plain": [
       "<AxesSubplot:>"
      ]
     },
     "execution_count": 19,
     "metadata": {},
     "output_type": "execute_result"
    },
    {
     "data": {
      "image/png": "[encoded data removed]",
      "text/plain": [
       "<Figure size 432x288 with 1 Axes>"
      ]
     },
     "metadata": {
      "needs_background": "light"
     },
     "output_type": "display_data"
    }
   ],
   "source": [
    "sns.heatmap(data[:,:,0], cbar=False)"
   ]
  },
  {
   "cell_type": "code",
   "execution_count": 35,
   "id": "77d8e6b7",
   "metadata": {},
   "outputs": [
    {
     "name": "stderr",
     "output_type": "stream",
     "text": [
      "100%|██████████████████████████████████████████████████████████████████████████████| 2000/2000 [46:56<00:00,  1.41s/it]\n",
      "100%|████████████████████████████████████████████████████████████████████████████| 2000/2000 [2:07:27<00:00,  3.82s/it]\n"
     ]
    }
   ],
   "source": [
    "rtrbm = RTRBM(data, N_H=10, device='cpu')\n",
    "rtrbm.learn(n_epochs=2000, batchsize=64, mom=0.9, wc=0.0002, lr=1e-3)\n",
    "rbm = RBM(data, N_H=10, device='cpu')\n",
    "rbm.learn(n_epochs=2000, batchsize=64, mom=0.9, wc=0.0002, lr=1e-3)"
   ]
  },
  {
   "cell_type": "code",
   "execution_count": 37,
   "id": "5cbb49b6",
   "metadata": {},
   "outputs": [
    {
     "data": {
      "text/plain": [
       "[<matplotlib.lines.Line2D at 0x1d7d8312040>]"
      ]
     },
     "execution_count": 37,
     "metadata": {},
     "output_type": "execute_result"
    },
    {
     "data": {
      "image/png": "[encoded data removed]",
      "text/plain": [
       "<Figure size 432x288 with 1 Axes>"
      ]
     },
     "metadata": {
      "needs_background": "light"
     },
     "output_type": "display_data"
    }
   ],
   "source": [
    "plt.plot(rtrbm.errors)"
   ]
  },
  {
   "cell_type": "code",
   "execution_count": 62,
   "id": "ca194bcc",
   "metadata": {},
   "outputs": [
    {
     "name": "stderr",
     "output_type": "stream",
     "text": [
      "100%|████████████████████████████████████████████████████████████████████████████████████| 8/8 [00:03<00:00,  2.16it/s]\n"
     ]
    }
   ],
   "source": [
    "vt, rt = rtrbm.infer(data[:, :8, 1], pre_gibbs_k=5000, gibbs_k=1000, mode=1)\n"
   ]
  },
  {
   "cell_type": "code",
   "execution_count": 63,
   "id": "e67ee4bf",
   "metadata": {},
   "outputs": [
    {
     "data": {
      "text/plain": [
       "<AxesSubplot:>"
      ]
     },
     "execution_count": 63,
     "metadata": {},
     "output_type": "execute_result"
    },
    {
     "data": {
      "image/png": "[encoded data removed]",
      "text/plain": [
       "<Figure size 432x288 with 2 Axes>"
      ]
     },
     "metadata": {
      "needs_background": "light"
     },
     "output_type": "display_data"
    }
   ],
   "source": [
    "sns.heatmap(vt)"
   ]
  },
  {
   "cell_type": "code",
   "execution_count": null,
   "id": "3bbf63b6",
   "metadata": {},
   "outputs": [],
   "source": []
  }
 ],
 "metadata": {
  "kernelspec": {
   "display_name": "Python 3 (ipykernel)",
   "language": "python",
   "name": "python3"
  },
  "language_info": {
   "codemirror_mode": {
    "name": "ipython",
    "version": 3
   },
   "file_extension": ".py",
   "mimetype": "text/x-python",
   "name": "python",
   "nbconvert_exporter": "python",
   "pygments_lexer": "ipython3",
   "version": "3.9.7"
  }
 },
 "nbformat": 4,
 "nbformat_minor": 5
}