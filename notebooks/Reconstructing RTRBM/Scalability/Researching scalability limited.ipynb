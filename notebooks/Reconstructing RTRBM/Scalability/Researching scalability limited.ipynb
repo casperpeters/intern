{
 "cells": [
  {
   "cell_type": "code",
   "execution_count": 1,
   "id": "5e847c98",
   "metadata": {},
   "outputs": [],
   "source": [
    "import torch\n",
    "import numpy as np\n",
    "from tqdm import tqdm\n",
    "from scipy.stats.distributions import chi2\n",
    "from scipy.stats import pearsonr\n",
    "import pickle\n",
    "\n",
    "import matplotlib.pyplot as plt\n",
    "from scipy.stats import linregress\n",
    "import seaborn as sns\n",
    "import random\n",
    "import matplotlib.animation as animation\n",
    "import sys, os\n",
    "\n",
    "path = os.path.dirname(os.getcwd())\n",
    "sys.path.append(path)\n",
    "\n",
    "from utils.plots import *\n",
    "from utils.funcs import *\n",
    "from utils.visualize_network import *\n",
    "from utils.visualize_hidden_network import *\n",
    "\n",
    "from boltzmann_machines.RTRBM_ import RTRBM as RTRBM_\n",
    "from boltzmann_machines.RTRBM import RTRBM\n",
    "from boltzmann_machines.RTRBM_no_bias import RTRBM_nobias\n",
    "from boltzmann_machines.RBM import RBM\n",
    "\n",
    "from data.load_data import *\n",
    "from data.mock_data import *\n",
    "from data.reshape_data import *"
   ]
  },
  {
   "cell_type": "markdown",
   "id": "5e02893f",
   "metadata": {},
   "source": [
    "How many batches are nessesary to reproduce the weights with a pearson correlation of > 0.95\n"
   ]
  },
  {
   "cell_type": "code",
   "execution_count": 8,
   "outputs": [
    {
     "data": {
      "text/plain": "<AxesSubplot:>"
     },
     "execution_count": 8,
     "metadata": {},
     "output_type": "execute_result"
    },
    {
     "data": {
      "text/plain": "<Figure size 432x288 with 2 Axes>",
      "image/png": "[encoded data removed]"
     },
     "metadata": {
      "needs_background": "light"
     },
     "output_type": "display_data"
    }
   ],
   "source": [
    "N_V = 50\n",
    "N_H = 5\n",
    "T = 50\n",
    "n_batches = 10\n",
    "nabla=0.1\n",
    "n_conn=2\n",
    "\n",
    "sp = 1-n_conn/N_H\n",
    "min = -1\n",
    "max = 1\n",
    "\n",
    "W = nabla * torch.randn((N_H, N_V), dtype=torch.float)\n",
    "temp_W = (min - max) * torch.rand(N_H, dtype=torch.float) + max\n",
    "W += np.random.choice(np.array(temp_W), size=(N_H, N_V))\n",
    "\n",
    "for i in range(N_V):\n",
    "    if torch.sum(W[:, i]==0)/N_H<sp:\n",
    "        W[:, i][ np.random.permutation(N_H)[:int(np.ceil(sp * N_H))]] = 0\n",
    "\n",
    "sns.heatmap(W)"
   ],
   "metadata": {
    "collapsed": false,
    "pycharm": {
     "name": "#%%\n"
    }
   }
  },
  {
   "cell_type": "code",
   "execution_count": 2,
   "outputs": [],
   "source": [
    "N_H = 5\n",
    "N_V = 100\n",
    "T = 50\n",
    "\n",
    "n_batches = 500\n",
    "nabla = 0.1\n",
    "\n",
    "def recon_rtrbm(N_V, N_H, T, n_batches, nabla=0.1, n_conn=1):\n",
    "    sp = 1-n_conn/N_H\n",
    "    min = -1\n",
    "    max = 1\n",
    "\n",
    "    W = nabla * torch.randn((N_H, N_V), dtype=torch.float)\n",
    "    temp_W = (min - max) * torch.rand(N_H, dtype=torch.float) + max\n",
    "    W += np.random.choice(np.array(temp_W), size=(N_H, N_V))\n",
    "\n",
    "    for i in range(N_V):\n",
    "        if torch.sum(W[:, i]==0)/N_H<sp:\n",
    "            W[:, i][ np.random.permutation(N_H)[:int(np.ceil(sp * N_H))]] = 0\n",
    "\n",
    "    W_acc = (min - max) * torch.rand((N_H, N_H), dtype=torch.float) + max\n",
    "    b_init = torch.zeros(1, N_H, dtype=torch.float)\n",
    "    b_V = torch.zeros(1, N_V, dtype=torch.float)\n",
    "    b_H = torch.zeros(1, N_H, dtype=torch.float)\n",
    "\n",
    "    data = torch.zeros(N_V, T, dtype=torch.float)\n",
    "\n",
    "    rtrbm = RTRBM(data, N_H=N_H, device='cpu')\n",
    "    rtrbm.W = W\n",
    "    rtrbm.W_acc = W_acc\n",
    "    rtrbm.b_init = b_init\n",
    "    rtrbm.b_V = b_V\n",
    "    rtrbm.b_H = b_H\n",
    "\n",
    "    data = torch.zeros(N_V, T, n_batches)\n",
    "    rt = torch.zeros(N_H, T, n_batches)\n",
    "    for batch in range(n_batches):\n",
    "        v_start = (torch.rand(N_V) > 0.3)*1.0\n",
    "        data[:, :, batch], rt[:, :, batch] = rtrbm.sample(v_start.type(torch.float), chain=T, pre_gibbs_k=10, gibbs_k=100, mode=1, disable_tqdm=True)\n",
    "    data = torch.tensor(data, dtype=torch.float, device='cpu')\n",
    "\n",
    "    return data, rtrbm"
   ],
   "metadata": {
    "collapsed": false,
    "pycharm": {
     "name": "#%%\n"
    }
   }
  },
  {
   "cell_type": "code",
   "execution_count": null,
   "outputs": [],
   "source": [
    "data, rtrbm = recon_rtrbm(N_V, N_H, T, n_batches, nabla=0.1, n_conn=1)"
   ],
   "metadata": {
    "collapsed": false,
    "pycharm": {
     "name": "#%%\n"
    }
   }
  },
  {
   "cell_type": "code",
   "execution_count": 14,
   "outputs": [
    {
     "data": {
      "text/plain": "<AxesSubplot:>"
     },
     "execution_count": 14,
     "metadata": {},
     "output_type": "execute_result"
    },
    {
     "data": {
      "text/plain": "<Figure size 432x288 with 2 Axes>",
      "image/png": "[encoded data removed]"
     },
     "metadata": {
      "needs_background": "light"
     },
     "output_type": "display_data"
    }
   ],
   "source": [
    "W1 = torch.zeros_like(rtrbm.W)\n",
    "for i in range(rtrbm.W.shape[0]):\n",
    "    W1[i, :] = rtrbm.W[i, torch.argsort(rtrbm.W[i, :], descending=False)]\n",
    "\n",
    "sns.heatmap(W1)"
   ],
   "metadata": {
    "collapsed": false,
    "pycharm": {
     "name": "#%%\n"
    }
   }
  },
  {
   "cell_type": "code",
   "execution_count": 15,
   "outputs": [
    {
     "name": "stdout",
     "output_type": "stream",
     "text": [
      "tensor(0.5043)\n"
     ]
    },
    {
     "name": "stderr",
     "output_type": "stream",
     "text": [
      "C:\\Users\\sebas\\AppData\\Local\\Temp/ipykernel_32596/1817940790.py:6: UserWarning: To copy construct from a tensor, it is recommended to use sourceTensor.clone().detach() or sourceTensor.clone().detach().requires_grad_(True), rather than torch.tensor(sourceTensor).\n",
      "  data = torch.tensor(data, dtype=torch.float, device='cpu')\n"
     ]
    },
    {
     "data": {
      "text/plain": "<AxesSubplot:>"
     },
     "execution_count": 15,
     "metadata": {},
     "output_type": "execute_result"
    },
    {
     "data": {
      "text/plain": "<Figure size 432x288 with 2 Axes>",
      "image/png": "[encoded data removed]"
     },
     "metadata": {
      "needs_background": "light"
     },
     "output_type": "display_data"
    }
   ],
   "source": [
    "data = torch.zeros(N_V, T, n_batches)\n",
    "rt = torch.zeros(N_H, T, n_batches)\n",
    "for batch in range(n_batches):\n",
    "    v_start = (torch.rand(N_V) > 0.3)*1.0\n",
    "    data[:, :, batch], rt[:, :, batch] = rtrbm.sample(v_start.type(torch.float), chain=T, pre_gibbs_k=100, gibbs_k=100, mode=1, disable_tqdm=True)\n",
    "data = torch.tensor(data, dtype=torch.float, device='cpu')\n",
    "print(torch.mean(data))\n",
    "sns.heatmap(data[:, :, 0].cpu())"
   ],
   "metadata": {
    "collapsed": false,
    "pycharm": {
     "name": "#%%\n"
    }
   }
  },
  {
   "cell_type": "code",
   "execution_count": 16,
   "outputs": [
    {
     "name": "stderr",
     "output_type": "stream",
     "text": [
      "100%|██████████| 1000/1000 [42:34<00:00,  2.55s/it]\n"
     ]
    },
    {
     "data": {
      "text/plain": "[<matplotlib.lines.Line2D at 0x230fb065070>]"
     },
     "execution_count": 16,
     "metadata": {},
     "output_type": "execute_result"
    },
    {
     "data": {
      "text/plain": "<Figure size 432x288 with 1 Axes>",
      "image/png": "[encoded data removed]"
     },
     "metadata": {
      "needs_background": "light"
     },
     "output_type": "display_data"
    }
   ],
   "source": [
    "rtrbm_ = RTRBM_nobias(data, N_H=N_H, device='cpu')\n",
    "rtrbm_.learn(n_epochs=1000, batchsize=1, CDk=10, lr=1e-4, mom=0.9, wc=0.0002, sp=3e-6, x=2)\n",
    "plt.plot(rtrbm_.errors)"
   ],
   "metadata": {
    "collapsed": false,
    "pycharm": {
     "name": "#%%\n"
    }
   }
  },
  {
   "cell_type": "code",
   "execution_count": 19,
   "outputs": [
    {
     "name": "stdout",
     "output_type": "stream",
     "text": [
      "0.6404174352093323 -0.2617209677780094\n"
     ]
    }
   ],
   "source": [
    "W_original = rtrbm.W.detach().clone()\n",
    "W_train = rtrbm_.W.detach().clone()\n",
    "W_acc_original = rtrbm.U.detach().clone()\n",
    "W_acc_train = rtrbm_.U.detach().clone()\n",
    "\n",
    "corr = np.zeros((N_H, N_H))\n",
    "shuffle_idx = np.zeros((N_H))\n",
    "for i in range(N_H):\n",
    "    for j in range(N_H):\n",
    "        corr[i, j] = np.correlate(W_original[i,:], W_train[j,:])\n",
    "    shuffle_idx[i] = np.argmax(corr[i,:])\n",
    "\n",
    "W_train = W_train[shuffle_idx, :]\n",
    "W_acc_train = W_acc_train[shuffle_idx, :]\n",
    "W_acc_train = W_acc_train[:, shuffle_idx]\n",
    "\n",
    "_, _, r_W, _, _ = linregress(W_original.ravel(), W_train.ravel())\n",
    "_, _, r_U, _, _ = linregress(W_acc_original.ravel(), W_acc_train.ravel())\n",
    "\n",
    "print(r_W, r_U)"
   ],
   "metadata": {
    "collapsed": false,
    "pycharm": {
     "name": "#%%\n"
    }
   }
  },
  {
   "cell_type": "code",
   "execution_count": 20,
   "outputs": [
    {
     "name": "stderr",
     "output_type": "stream",
     "text": [
      "100%|██████████| 1500/1500 [1:04:55<00:00,  2.60s/it]\n"
     ]
    },
    {
     "data": {
      "text/plain": "[<matplotlib.lines.Line2D at 0x230fad2c610>]"
     },
     "execution_count": 20,
     "metadata": {},
     "output_type": "execute_result"
    },
    {
     "data": {
      "text/plain": "<Figure size 432x288 with 1 Axes>",
      "image/png": "[encoded data removed]"
     },
     "metadata": {
      "needs_background": "light"
     },
     "output_type": "display_data"
    }
   ],
   "source": [
    "rtrbm_1 = RTRBM_nobias(data, N_H=N_H, device='cpu')\n",
    "rtrbm_1.learn(n_epochs=1500, batchsize=10, CDk=10, lr=1e-4, lr_end=1e-6, start_decay=200, mom=0.9, wc=0.0002, sp=3e-6, x=2)\n",
    "plt.plot(rtrbm_1.errors)"
   ],
   "metadata": {
    "collapsed": false,
    "pycharm": {
     "name": "#%%\n"
    }
   }
  },
  {
   "cell_type": "code",
   "execution_count": 21,
   "outputs": [
    {
     "name": "stdout",
     "output_type": "stream",
     "text": [
      "0.6404174352093323 -0.2617209677780094\n"
     ]
    }
   ],
   "source": [
    "W_original = rtrbm.W.detach().clone()\n",
    "W_train = rtrbm_.W.detach().clone()\n",
    "W_acc_original = rtrbm.U.detach().clone()\n",
    "W_acc_train = rtrbm_.U.detach().clone()\n",
    "\n",
    "corr = np.zeros((N_H, N_H))\n",
    "shuffle_idx = np.zeros((N_H))\n",
    "for i in range(N_H):\n",
    "    for j in range(N_H):\n",
    "        corr[i, j] = np.correlate(W_original[i,:], W_train[j,:])\n",
    "    shuffle_idx[i] = np.argmax(corr[i,:])\n",
    "\n",
    "W_train = W_train[shuffle_idx, :]\n",
    "W_acc_train = W_acc_train[shuffle_idx, :]\n",
    "W_acc_train = W_acc_train[:, shuffle_idx]\n",
    "\n",
    "_, _, r_W, _, _ = linregress(W_original.ravel(), W_train.ravel())\n",
    "_, _, r_U, _, _ = linregress(W_acc_original.ravel(), W_acc_train.ravel())\n",
    "\n",
    "print(r_W, r_U)"
   ],
   "metadata": {
    "collapsed": false,
    "pycharm": {
     "name": "#%%\n"
    }
   }
  },
  {
   "cell_type": "code",
   "execution_count": 2,
   "id": "61440659",
   "metadata": {},
   "outputs": [],
   "source": [
    "def init_rtrbm_and_sample(N_V, N_H, T, n_batches):\n",
    "    # Initialize original RTRBM\n",
    "\n",
    "    min = -1\n",
    "    max = 1\n",
    "\n",
    "    W = (min - max) * torch.rand((N_H, N_V), dtype=torch.float) + max\n",
    "    W_acc = (min - max) * torch.rand((N_H, N_H), dtype=torch.float) + max\n",
    "    b_init = torch.zeros(1, N_H, dtype=torch.float)\n",
    "    b_V = torch.zeros(1, N_V, dtype=torch.float)\n",
    "    b_H = torch.zeros(1, N_H, dtype=torch.float)\n",
    "\n",
    "    data = torch.zeros(N_V, T, dtype=torch.float)\n",
    "\n",
    "    rtrbm = RTRBM(data, N_H=N_H, device='cpu')\n",
    "    rtrbm.W = W\n",
    "    rtrbm.W_acc = W_acc\n",
    "    rtrbm.b_init = b_init\n",
    "    rtrbm.b_V = b_V\n",
    "    rtrbm.b_H = b_H\n",
    "    \n",
    "    data = torch.zeros(N_V, T, n_batches)\n",
    "    rt = torch.zeros(N_H, T, n_batches)\n",
    "    for batch in range(n_batches):\n",
    "        v_start = (torch.rand(N_V) > 0.2)*1.0\n",
    "        data[:, :, batch], rt[:, :, batch] = rtrbm.sample(v_start.type(torch.float), chain=T, pre_gibbs_k=100, gibbs_k=100, mode=1, disable_tqdm=True)\n",
    "        \n",
    "    return data, rtrbm"
   ]
  },
  {
   "cell_type": "code",
   "execution_count": 3,
   "id": "56e1d2f1",
   "metadata": {},
   "outputs": [
    {
     "name": "stderr",
     "output_type": "stream",
     "text": [
      "\r",
      "  0%|                                                                                            | 0/8 [00:00<?, ?it/s]"
     ]
    },
    {
     "name": "stdout",
     "output_type": "stream",
     "text": [
      "500\n"
     ]
    },
    {
     "name": "stderr",
     "output_type": "stream",
     "text": [
      "  0%|                                                                                            | 0/8 [08:42<?, ?it/s]\n"
     ]
    },
    {
     "ename": "KeyboardInterrupt",
     "evalue": "",
     "output_type": "error",
     "traceback": [
      "\u001B[1;31m---------------------------------------------------------------------------\u001B[0m",
      "\u001B[1;31mKeyboardInterrupt\u001B[0m                         Traceback (most recent call last)",
      "\u001B[1;32m~\\AppData\\Local\\Temp/ipykernel_20784/1881229752.py\u001B[0m in \u001B[0;36m<module>\u001B[1;34m\u001B[0m\n\u001B[0;32m     18\u001B[0m \u001B[1;33m\u001B[0m\u001B[0m\n\u001B[0;32m     19\u001B[0m         \u001B[0mrtrbm_\u001B[0m \u001B[1;33m=\u001B[0m \u001B[0mRTRBM_\u001B[0m\u001B[1;33m(\u001B[0m\u001B[0mdata\u001B[0m\u001B[1;33m,\u001B[0m \u001B[0mN_H\u001B[0m\u001B[1;33m=\u001B[0m\u001B[0mN_H\u001B[0m\u001B[1;33m,\u001B[0m \u001B[0mdevice\u001B[0m\u001B[1;33m=\u001B[0m\u001B[1;34m'cpu'\u001B[0m\u001B[1;33m)\u001B[0m\u001B[1;33m\u001B[0m\u001B[1;33m\u001B[0m\u001B[0m\n\u001B[1;32m---> 20\u001B[1;33m         \u001B[0mrtrbm_\u001B[0m\u001B[1;33m.\u001B[0m\u001B[0mlearn\u001B[0m\u001B[1;33m(\u001B[0m\u001B[0mmax_epochs\u001B[0m\u001B[1;33m=\u001B[0m\u001B[1;36m100\u001B[0m\u001B[1;33m,\u001B[0m \u001B[0mbatchsize\u001B[0m\u001B[1;33m=\u001B[0m\u001B[1;36m1\u001B[0m\u001B[1;33m,\u001B[0m \u001B[0mCDk\u001B[0m\u001B[1;33m=\u001B[0m\u001B[1;36m10\u001B[0m\u001B[1;33m,\u001B[0m \u001B[0mlr\u001B[0m\u001B[1;33m=\u001B[0m\u001B[1;36m1e-4\u001B[0m\u001B[1;33m,\u001B[0m \u001B[0mmom\u001B[0m\u001B[1;33m=\u001B[0m\u001B[1;36m0.9\u001B[0m\u001B[1;33m,\u001B[0m \u001B[0mwc\u001B[0m\u001B[1;33m=\u001B[0m\u001B[1;36m0.0002\u001B[0m\u001B[1;33m)\u001B[0m\u001B[1;33m\u001B[0m\u001B[1;33m\u001B[0m\u001B[0m\n\u001B[0m\u001B[0;32m     21\u001B[0m \u001B[1;33m\u001B[0m\u001B[0m\n\u001B[0;32m     22\u001B[0m         \u001B[0mrtrbm_list\u001B[0m\u001B[1;33m.\u001B[0m\u001B[0mappend\u001B[0m\u001B[1;33m(\u001B[0m\u001B[0mrtrbm_\u001B[0m\u001B[1;33m)\u001B[0m\u001B[1;33m\u001B[0m\u001B[1;33m\u001B[0m\u001B[0m\n",
      "\u001B[1;32m~\\OneDrive\\Intern\\rtrbm_master\\boltzmann_machines\\RTRBM_.py\u001B[0m in \u001B[0;36mlearn\u001B[1;34m(self, max_epochs, batchsize, CDk, PCD, lr, lr_end, start_decay, sp, x, mom, wc, AF, HH_normalisation)\u001B[0m\n\u001B[0;32m    101\u001B[0m \u001B[1;33m\u001B[0m\u001B[0m\n\u001B[0;32m    102\u001B[0m                     \u001B[1;31m# use data (normal Contrastive Divergence)\u001B[0m\u001B[1;33m\u001B[0m\u001B[1;33m\u001B[0m\u001B[0m\n\u001B[1;32m--> 103\u001B[1;33m                     \u001B[0mbarht\u001B[0m\u001B[1;33m,\u001B[0m \u001B[0mbarvt\u001B[0m\u001B[1;33m,\u001B[0m \u001B[0mht_k\u001B[0m\u001B[1;33m,\u001B[0m \u001B[0mvt_k\u001B[0m \u001B[1;33m=\u001B[0m \u001B[0mself\u001B[0m\u001B[1;33m.\u001B[0m\u001B[0mCD\u001B[0m\u001B[1;33m(\u001B[0m\u001B[0mvt\u001B[0m\u001B[1;33m,\u001B[0m \u001B[0mrt\u001B[0m\u001B[1;33m,\u001B[0m \u001B[0mCDk\u001B[0m\u001B[1;33m,\u001B[0m \u001B[0mAF\u001B[0m\u001B[1;33m=\u001B[0m\u001B[0mAF\u001B[0m\u001B[1;33m)\u001B[0m\u001B[1;33m\u001B[0m\u001B[1;33m\u001B[0m\u001B[0m\n\u001B[0m\u001B[0;32m    104\u001B[0m \u001B[1;33m\u001B[0m\u001B[0m\n\u001B[0;32m    105\u001B[0m                     \u001B[0mself\u001B[0m\u001B[1;33m.\u001B[0m\u001B[0mvt_k\u001B[0m \u001B[1;33m=\u001B[0m \u001B[0mvt_k\u001B[0m\u001B[1;33m[\u001B[0m\u001B[1;33m:\u001B[0m\u001B[1;33m,\u001B[0m \u001B[1;33m:\u001B[0m\u001B[1;33m,\u001B[0m \u001B[1;33m-\u001B[0m\u001B[1;36m1\u001B[0m\u001B[1;33m]\u001B[0m\u001B[1;33m\u001B[0m\u001B[1;33m\u001B[0m\u001B[0m\n",
      "\u001B[1;32m~\\OneDrive\\Intern\\rtrbm_master\\boltzmann_machines\\RTRBM_.py\u001B[0m in \u001B[0;36mCD\u001B[1;34m(self, vt, rt, CDk, AF)\u001B[0m\n\u001B[0;32m    139\u001B[0m         \u001B[0mht_k\u001B[0m \u001B[1;33m=\u001B[0m \u001B[0mtorch\u001B[0m\u001B[1;33m.\u001B[0m\u001B[0mzeros\u001B[0m\u001B[1;33m(\u001B[0m\u001B[0mself\u001B[0m\u001B[1;33m.\u001B[0m\u001B[0mN_H\u001B[0m\u001B[1;33m,\u001B[0m \u001B[0mself\u001B[0m\u001B[1;33m.\u001B[0m\u001B[0mT\u001B[0m\u001B[1;33m,\u001B[0m \u001B[0mCDk\u001B[0m\u001B[1;33m,\u001B[0m \u001B[0mdtype\u001B[0m\u001B[1;33m=\u001B[0m\u001B[0mself\u001B[0m\u001B[1;33m.\u001B[0m\u001B[0mdtype\u001B[0m\u001B[1;33m,\u001B[0m \u001B[0mdevice\u001B[0m\u001B[1;33m=\u001B[0m\u001B[0mself\u001B[0m\u001B[1;33m.\u001B[0m\u001B[0mdevice\u001B[0m\u001B[1;33m)\u001B[0m\u001B[1;33m\u001B[0m\u001B[1;33m\u001B[0m\u001B[0m\n\u001B[0;32m    140\u001B[0m         \u001B[0mprobht_k\u001B[0m \u001B[1;33m=\u001B[0m \u001B[0mtorch\u001B[0m\u001B[1;33m.\u001B[0m\u001B[0mzeros\u001B[0m\u001B[1;33m(\u001B[0m\u001B[0mself\u001B[0m\u001B[1;33m.\u001B[0m\u001B[0mN_H\u001B[0m\u001B[1;33m,\u001B[0m \u001B[0mself\u001B[0m\u001B[1;33m.\u001B[0m\u001B[0mT\u001B[0m\u001B[1;33m,\u001B[0m \u001B[0mCDk\u001B[0m\u001B[1;33m,\u001B[0m \u001B[0mdtype\u001B[0m\u001B[1;33m=\u001B[0m\u001B[0mself\u001B[0m\u001B[1;33m.\u001B[0m\u001B[0mdtype\u001B[0m\u001B[1;33m,\u001B[0m \u001B[0mdevice\u001B[0m\u001B[1;33m=\u001B[0m\u001B[0mself\u001B[0m\u001B[1;33m.\u001B[0m\u001B[0mdevice\u001B[0m\u001B[1;33m)\u001B[0m\u001B[1;33m\u001B[0m\u001B[1;33m\u001B[0m\u001B[0m\n\u001B[1;32m--> 141\u001B[1;33m         \u001B[0mvt_k\u001B[0m \u001B[1;33m=\u001B[0m \u001B[0mtorch\u001B[0m\u001B[1;33m.\u001B[0m\u001B[0mzeros\u001B[0m\u001B[1;33m(\u001B[0m\u001B[0mself\u001B[0m\u001B[1;33m.\u001B[0m\u001B[0mN_V\u001B[0m\u001B[1;33m,\u001B[0m \u001B[0mself\u001B[0m\u001B[1;33m.\u001B[0m\u001B[0mT\u001B[0m\u001B[1;33m,\u001B[0m \u001B[0mCDk\u001B[0m\u001B[1;33m,\u001B[0m \u001B[0mdtype\u001B[0m\u001B[1;33m=\u001B[0m\u001B[0mself\u001B[0m\u001B[1;33m.\u001B[0m\u001B[0mdtype\u001B[0m\u001B[1;33m,\u001B[0m \u001B[0mdevice\u001B[0m\u001B[1;33m=\u001B[0m\u001B[0mself\u001B[0m\u001B[1;33m.\u001B[0m\u001B[0mdevice\u001B[0m\u001B[1;33m)\u001B[0m\u001B[1;33m\u001B[0m\u001B[1;33m\u001B[0m\u001B[0m\n\u001B[0m\u001B[0;32m    142\u001B[0m \u001B[1;33m\u001B[0m\u001B[0m\n\u001B[0;32m    143\u001B[0m         \u001B[0mvt_k\u001B[0m\u001B[1;33m[\u001B[0m\u001B[1;33m:\u001B[0m\u001B[1;33m,\u001B[0m \u001B[1;33m:\u001B[0m\u001B[1;33m,\u001B[0m \u001B[1;36m0\u001B[0m\u001B[1;33m]\u001B[0m \u001B[1;33m=\u001B[0m \u001B[0mvt\u001B[0m\u001B[1;33m.\u001B[0m\u001B[0mdetach\u001B[0m\u001B[1;33m(\u001B[0m\u001B[1;33m)\u001B[0m\u001B[1;33m\u001B[0m\u001B[1;33m\u001B[0m\u001B[0m\n",
      "\u001B[1;31mKeyboardInterrupt\u001B[0m: "
     ]
    }
   ],
   "source": [
    "N_V = 1000\n",
    "T = 30\n",
    "N_H = 5\n",
    "\n",
    "max_epoch = 1000\n",
    "n_rtrbms = 1\n",
    "rtrbm_list_batchsize = []\n",
    "rtrbm_original_list_batchsize = []\n",
    "\n",
    "for batchsize in tqdm(500):\n",
    "    print(batchsize)\n",
    "    rtrbm_list = []\n",
    "    rtrbm_original_list = []\n",
    "    \n",
    "    for _ in range(n_rtrbms):\n",
    "        \n",
    "        data, rtrbm = init_rtrbm_and_sample(N_V=N_V, N_H=N_H, T=T, n_batches=batchsize)\n",
    "        \n",
    "        rtrbm_ = RTRBM_(data, N_H=N_H, device='cuda')\n",
    "        rtrbm_.learn(max_epochs=100, batchsize=1, CDk=10, lr=1e-4, mom=0.9, wc=0.0002, sp=3e-6, x=2)\n",
    "        \n",
    "        rtrbm_list.append(rtrbm_)\n",
    "        rtrbm_original_list.append(rtrbm)\n",
    "        \n",
    "    rtrbm_list_batchsize.append(rtrbm_list) \n",
    "    rtrbm_original_list_batchsize.append(rtrbm_original_list)   \n",
    "        \n",
    "    \n",
    "# Calculate Pearson correlation of the trained weights\n",
    "\n"
   ]
  },
  {
   "cell_type": "code",
   "execution_count": null,
   "id": "46fece2d",
   "metadata": {},
   "outputs": [],
   "source": [
    "n_batches = len(rtrbm_original_list_batchsize)\n",
    "n_rtrbms = len(rtrbm_original_list_batchsize[0])\n",
    "r_VH = torch.zeros([n_batches, n_rtrbms])\n",
    "r_HH = torch.zeros([n_batches, n_rtrbms])\n",
    "\n",
    "for batch in tqdm(range(n_batches)):\n",
    "    for m in range(n_rtrbms):\n",
    "        W_original = rtrbm_original_list_batchsize[batch][m].VH.detach().clone()\n",
    "        W_train = rtrbm_list_batchsize[batch][m].VH.detach().clone()\n",
    "        W_acc_original = rtrbm_original_list_batchsize[batch][m].HH.detach().clone()\n",
    "        W_acc_train = rtrbm_original_list_batchsize[batch][m].HH.detach().clone()\n",
    "\n",
    "        corr = np.zeros((N_H, N_H))\n",
    "        shuffle_idx = np.zeros((N_H))\n",
    "        for i in range(N_H):\n",
    "            for j in range(N_H):\n",
    "                corr[i, j] = np.correlate(W_original[i,:], W_train[j,:])\n",
    "            shuffle_idx[i] = np.argmax(corr[i,:])\n",
    "\n",
    "        W_train = W_train[shuffle_idx, :]    \n",
    "        W_acc_train = W_acc_train[shuffle_idx, :]\n",
    "        W_acc_train = W_acc_train[:, shuffle_idx]\n",
    "\n",
    "        _, _, r_VH[batch, m], _, _ = linregress(W_original.ravel(), W_train.ravel())\n",
    "        _, _, r_HH[batch, m], _, _ = linregress(W_acc_original.ravel(), W_acc_train.ravel())\n",
    "        \n",
    "print(r_VH, r_HH)"
   ]
  },
  {
   "cell_type": "code",
   "execution_count": null,
   "id": "bca2da43",
   "metadata": {},
   "outputs": [],
   "source": []
  },
  {
   "cell_type": "code",
   "execution_count": null,
   "id": "3d4db195",
   "metadata": {},
   "outputs": [],
   "source": []
  },
  {
   "cell_type": "code",
   "execution_count": null,
   "id": "fa18525c",
   "metadata": {},
   "outputs": [],
   "source": []
  }
 ],
 "metadata": {
  "kernelspec": {
   "name": "pycharm-6341b653",
   "language": "python",
   "display_name": "PyCharm (intern)"
  },
  "language_info": {
   "codemirror_mode": {
    "name": "ipython",
    "version": 3
   },
   "file_extension": ".py",
   "mimetype": "text/x-python",
   "name": "python",
   "nbconvert_exporter": "python",
   "pygments_lexer": "ipython3",
   "version": "3.9.7"
  }
 },
 "nbformat": 4,
 "nbformat_minor": 5
}