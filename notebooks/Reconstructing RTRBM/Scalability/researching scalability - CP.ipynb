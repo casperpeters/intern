{
 "cells": [
  {
   "cell_type": "code",
   "execution_count": 3,
   "metadata": {
    "collapsed": true
   },
   "outputs": [],
   "source": [
    "import torch\n",
    "import matplotlib.pyplot as plt\n",
    "import seaborn\n",
    "import os"
   ]
  },
  {
   "cell_type": "code",
   "execution_count": 11,
   "outputs": [
    {
     "ename": "AttributeError",
     "evalue": "'RTRBM' object has no attribute 'VH'",
     "output_type": "error",
     "traceback": [
      "\u001B[1;31m---------------------------------------------------------------------------\u001B[0m",
      "\u001B[1;31mAttributeError\u001B[0m                            Traceback (most recent call last)",
      "\u001B[1;32m~\\AppData\\Local\\Temp/ipykernel_15308/2925396344.py\u001B[0m in \u001B[0;36m<module>\u001B[1;34m\u001B[0m\n\u001B[0;32m     16\u001B[0m \u001B[1;33m\u001B[0m\u001B[0m\n\u001B[0;32m     17\u001B[0m    \u001B[1;32melse\u001B[0m\u001B[1;33m:\u001B[0m\u001B[1;33m\u001B[0m\u001B[1;33m\u001B[0m\u001B[0m\n\u001B[1;32m---> 18\u001B[1;33m       \u001B[0mW_generated_list\u001B[0m \u001B[1;33m+=\u001B[0m \u001B[1;33m[\u001B[0m\u001B[0mbm\u001B[0m\u001B[1;33m.\u001B[0m\u001B[0mVH\u001B[0m\u001B[1;33m]\u001B[0m\u001B[1;33m\u001B[0m\u001B[1;33m\u001B[0m\u001B[0m\n\u001B[0m\u001B[0;32m     19\u001B[0m       \u001B[0mU_generated_list\u001B[0m \u001B[1;33m+=\u001B[0m \u001B[1;33m[\u001B[0m\u001B[0mbm\u001B[0m\u001B[1;33m.\u001B[0m\u001B[0mHH\u001B[0m\u001B[1;33m]\u001B[0m\u001B[1;33m\u001B[0m\u001B[1;33m\u001B[0m\u001B[0m\n",
      "\u001B[1;31mAttributeError\u001B[0m: 'RTRBM' object has no attribute 'VH'"
     ]
    }
   ],
   "source": [
    "path = r'D:\\OneDrive\\RU\\Intern\\rtrbm_master\\results\\invertigating batchsize'\n",
    "error_list = []\n",
    "W_trained_list = []\n",
    "U_trained_list = []\n",
    "W_generated_list = []\n",
    "U_generated_list = []\n",
    "or_list = []\n",
    "\n",
    "for filename in os.listdir(path):\n",
    "   bm = torch.load(os.path.join(path, filename), map_location='cpu')\n",
    "\n",
    "   if torch.tensor(torch.tensor(bm.V.shape).shape) == 3:\n",
    "      error_list += [bm.errors]\n",
    "      W_trained_list = [bm.VH]\n",
    "      U_trained_list = [bm.HH]\n",
    "\n",
    "   else:\n",
    "      W_generated_list += [bm.VH]\n",
    "      U_generated_list += [bm.HH]"
   ],
   "metadata": {
    "collapsed": false,
    "pycharm": {
     "name": "#%%\n"
    }
   }
  },
  {
   "cell_type": "code",
   "execution_count": 15,
   "outputs": [],
   "source": [
    "bm = torch.load(r'D:\\OneDrive\\RU\\Intern\\rtrbm_master\\results\\invertigating batchsize\\rtrbm_30_5400_100_0', map_location='cpu')"
   ],
   "metadata": {
    "collapsed": false,
    "pycharm": {
     "name": "#%%\n"
    }
   }
  },
  {
   "cell_type": "code",
   "execution_count": 18,
   "outputs": [
    {
     "data": {
      "text/plain": "[]"
     },
     "execution_count": 18,
     "metadata": {},
     "output_type": "execute_result"
    }
   ],
   "source": [
    "U_generated_list"
   ],
   "metadata": {
    "collapsed": false,
    "pycharm": {
     "name": "#%%\n"
    }
   }
  },
  {
   "cell_type": "code",
   "execution_count": null,
   "outputs": [],
   "source": [
    "for i, errors in enumerate(error_list):\n",
    "   plt.plot(errors)\n",
    "   if i % 10 + 1 == 0:\n",
    "      plt.show()"
   ],
   "metadata": {
    "collapsed": false,
    "pycharm": {
     "name": "#%%\n"
    }
   }
  }
 ],
 "metadata": {
  "kernelspec": {
   "display_name": "Python 3",
   "language": "python",
   "name": "python3"
  },
  "language_info": {
   "codemirror_mode": {
    "name": "ipython",
    "version": 2
   },
   "file_extension": ".py",
   "mimetype": "text/x-python",
   "name": "python",
   "nbconvert_exporter": "python",
   "pygments_lexer": "ipython2",
   "version": "2.7.6"
  }
 },
 "nbformat": 4,
 "nbformat_minor": 0
}