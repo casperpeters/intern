{
 "cells": [
  {
   "cell_type": "code",
   "execution_count": 1,
   "metadata": {
    "collapsed": true
   },
   "outputs": [
    {
     "data": {
      "text/plain": "\"\\nto dump:\\n\\npath = os.path.dirname(os.getcwd())\\npickle.dump(rtrbm, open(path + '\\\\results\\\\RTRBMs\\\\RTRBMs1', 'wb'))\\n\\nto load:\\n\\ncheck1 = pickle.load(open(path + '\\\\results\\\\RTRBMs\\\\RTRBMs1', 'rb'))\\n\""
     },
     "execution_count": 1,
     "metadata": {},
     "output_type": "execute_result"
    }
   ],
   "source": [
    "import torch\n",
    "import numpy as np\n",
    "from tqdm import tqdm\n",
    "from scipy.stats.distributions import chi2\n",
    "from scipy.stats import pearsonr\n",
    "import pickle\n",
    "\n",
    "import matplotlib.pyplot as plt\n",
    "from scipy.stats import linregress\n",
    "import seaborn as sns\n",
    "import random\n",
    "import matplotlib.animation as animation\n",
    "import sys, os\n",
    "\n",
    "path = os.path.dirname(os.getcwd())\n",
    "sys.path.append(path)\n",
    "\n",
    "from utils.plots import *\n",
    "from utils.funcs import *\n",
    "from utils.visualize_network import *\n",
    "from utils.visualize_hidden_network import *\n",
    "\n",
    "from boltzmann_machines.RTRBM import RTRBM\n",
    "from boltzmann_machines.RBM import RBM\n",
    "\n",
    "from data.load_data import *\n",
    "from data.mock_data import *\n",
    "from data.reshape_data import *\n",
    "\n",
    "# spikes, behavior, coordinates, df, stimulus = loaddata()\n",
    "\n",
    "\"\"\"\n",
    "to dump:\n",
    "\n",
    "path = os.path.dirname(os.getcwd())\n",
    "pickle.dump(rtrbm, open(path + '\\\\results\\\\RTRBMs\\\\RTRBMs1', 'wb'))\n",
    "\n",
    "to load:\n",
    "\n",
    "check1 = pickle.load(open(path + '\\\\results\\\\RTRBMs\\\\RTRBMs1', 'rb'))\n",
    "\"\"\""
   ]
  },
  {
   "cell_type": "markdown",
   "source": [
    "We have 500+ rtrbms trained on 'reproducing an RTRBM' data, where we randomly initialize W and U and try\n",
    "to reproduce the weights. Three (nr) RTRBMs are trained on different number of visibles (N_V), hiddens (N_H)\n",
    "batchsizes (batchsize). All the RTRBMs are saved with the convention for the original RTRBM:\n",
    "rtrbm_or_N_H_N_V_batchsize_nr and trained RTRBM: rtrbm_N_H_N_V_batchsize_nr.\n",
    "\n",
    "We need to manually determine when each RTRBM has converged, iff convergence > 3000 than we do not take\n",
    "the corresponding RTRBM into account."
   ],
   "metadata": {
    "collapsed": false,
    "pycharm": {
     "name": "#%% md\n"
    }
   }
  },
  {
   "cell_type": "code",
   "execution_count": null,
   "outputs": [],
   "source": [
    "# Import data\n",
    "\n",
    "# Note that all the RTRBM combined are larger than 80 GB of space -> Therefore only look at subsets\n",
    "\n",
    "map_location = 'cuda'\n",
    "N_V = [200, 600, 1200, 1800, 2400, 3600, 4800, 5400]\n",
    "batchsize = [10, 50, 100, 250, 500, 750, 1000]\n",
    "nr = [0, 1, 2]\n",
    "T = 50\n",
    "\n",
    "N_H = [1, 3, 6, 9, 12, 18, 24, 30]\n",
    "#N_H = [2, 6, 12, 18, 24, 36, 48, 60]\n",
    "#N_H = [4, 12, 24, 36, 48, 72, 96, 120]\n",
    "#N_H = [8, 24, 48, 72, 96, 144, 192] # misses N_V=5400\n",
    "\n",
    "i=0\n",
    "b=0\n",
    "n=0\n",
    "\n",
    "name_rtrbm = 'rtrbm_' +str(N_H[i]) + '_' + str(N_V[i]) + '_' + str*(batchsize[b])+ '_' + str*(nr[n])\n",
    "name_original_rtrbm = 'rtrbm_or_' + +str(N_H[i]) + '_' + str(N_V[i]) + '_' + str*(batchsize[i])+ '_' + str*(nr)\n",
    "rtrbm = torch.load(r'C:\\Users\\sebas\\OneDrive\\Intern\\rtrbm_master\\results\\invertigating batchsize' + name_rtrbm, map_location=map_location)\n",
    "rtrbm_original = torch.load(r'C:\\Users\\sebas\\OneDrive\\Intern\\rtrbm_master\\results\\invertigating batchsize' + name_original_rtrbm, map_location=map_location)"
   ],
   "metadata": {
    "collapsed": false,
    "pycharm": {
     "name": "#%%\n"
    }
   }
  }
 ],
 "metadata": {
  "kernelspec": {
   "name": "pycharm-6341b653",
   "language": "python",
   "display_name": "PyCharm (intern)"
  },
  "language_info": {
   "codemirror_mode": {
    "name": "ipython",
    "version": 2
   },
   "file_extension": ".py",
   "mimetype": "text/x-python",
   "name": "python",
   "nbconvert_exporter": "python",
   "pygments_lexer": "ipython2",
   "version": "2.7.6"
  }
 },
 "nbformat": 4,
 "nbformat_minor": 0
}