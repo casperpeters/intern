{
 "cells": [
  {
   "cell_type": "code",
   "execution_count": 1,
   "metadata": {
    "collapsed": true
   },
   "outputs": [
    {
     "data": {
      "text/plain": "\"\\nto dump:\\n\\npath = os.path.dirname(os.getcwd())\\npickle.dump(rtrbm, open(path + '\\\\results\\\\RTRBMs\\\\RTRBMs1', 'wb'))\\n\\nto load:\\n\\ncheck1 = pickle.load(open(path + '\\\\results\\\\RTRBMs\\\\RTRBMs1', 'rb'))\\n\""
     },
     "execution_count": 1,
     "metadata": {},
     "output_type": "execute_result"
    }
   ],
   "source": [
    "import torch\n",
    "import numpy as np\n",
    "from tqdm import tqdm\n",
    "from scipy.stats.distributions import chi2\n",
    "from scipy.stats import pearsonr\n",
    "import pickle\n",
    "\n",
    "import matplotlib.pyplot as plt\n",
    "from scipy.stats import linregress\n",
    "import seaborn as sns\n",
    "import random\n",
    "import matplotlib.animation as animation\n",
    "import sys, os\n",
    "\n",
    "path = os.path.dirname(os.getcwd())\n",
    "sys.path.append(path)\n",
    "\n",
    "from utils.plots import *\n",
    "from utils.funcs import *\n",
    "from utils.visualize_network import *\n",
    "from utils.visualize_hidden_network import *\n",
    "\n",
    "from boltzmann_machines.RTRBM import RTRBM\n",
    "from boltzmann_machines.RBM import RBM\n",
    "\n",
    "from data.load_data import *\n",
    "from data.mock_data import *\n",
    "from data.reshape_data import *\n",
    "\n",
    "# spikes, behavior, coordinates, df, stimulus = loaddata()\n",
    "\n",
    "\"\"\"\n",
    "to dump:\n",
    "\n",
    "path = os.path.dirname(os.getcwd())\n",
    "pickle.dump(rtrbm, open(path + '\\\\results\\\\RTRBMs\\\\RTRBMs1', 'wb'))\n",
    "\n",
    "to load:\n",
    "\n",
    "check1 = pickle.load(open(path + '\\\\results\\\\RTRBMs\\\\RTRBMs1', 'rb'))\n",
    "\"\"\""
   ]
  },
  {
   "cell_type": "markdown",
   "source": [
    "We have 500+ rtrbms trained on 'reproducing an RTRBM' data, where we randomly initialize W and U and try\n",
    "to reproduce the weights. Three (nr) RTRBMs are trained on different number of visibles (N_V), hiddens (N_H)\n",
    "batchsizes (batchsize). All the RTRBMs are saved with the convention for the original RTRBM:\n",
    "rtrbm_or_N_H_N_V_batchsize_nr and trained RTRBM: rtrbm_N_H_N_V_batchsize_nr.\n",
    "\n",
    "We need to manually determine when each RTRBM has converged, iff convergence > 3000 than we do not take\n",
    "the corresponding RTRBM into account."
   ],
   "metadata": {
    "collapsed": false,
    "pycharm": {
     "name": "#%% md\n"
    }
   }
  },
  {
   "cell_type": "code",
   "execution_count": 3,
   "outputs": [
    {
     "data": {
      "text/plain": "[<matplotlib.lines.Line2D at 0x1756a2107c0>]"
     },
     "execution_count": 2,
     "metadata": {},
     "output_type": "execute_result"
    },
    {
     "data": {
      "text/plain": "<Figure size 432x288 with 1 Axes>",
      "image/png": "[encoded data removed]"
     },
     "metadata": {
      "needs_background": "light"
     },
     "output_type": "display_data"
    },
    {
     "data": {
      "text/plain": "[<matplotlib.lines.Line2D at 0x1756a315640>]"
     },
     "execution_count": 3,
     "metadata": {},
     "output_type": "execute_result"
    },
    {
     "data": {
      "text/plain": "<Figure size 432x288 with 1 Axes>",
      "image/png": "[encoded data removed]"
     },
     "metadata": {
      "needs_background": "light"
     },
     "output_type": "display_data"
    }
   ],
   "source": [
    "name_rtrbm = 'rtrbm_' +str(200) + '_' + str(60) + '_' + str(1000)\n",
    "#name_original_rtrbm = 'rtrbm_or_' +str(200) + '_' + str(60) + '_' + str(1000)\n",
    "\n",
    "rtrbm = torch.load(r'C:\\Users\\sebas\\OneDrive\\Intern\\rtrbm_master\\results\\Investigating batchsize CAD/' + name_rtrbm, map_location='cpu')\n",
    "#rtrbm_original = torch.load(r'C:\\Users\\sebas\\OneDrive\\Intern\\rtrbm_master\\results\\Investigating batchsize CAD/' + name_original_rtrbm, map_location='cpu')\n",
    "\n",
    "plt.plot(rtrbm.errors)"
   ],
   "metadata": {
    "collapsed": false,
    "pycharm": {
     "name": "#%%\n"
    }
   }
  },
  {
   "cell_type": "code",
   "execution_count": null,
   "outputs": [],
   "source": [
    "fig, ax = plt.subplots(2,2, figsize=(8,8))\n",
    "sns.heatmap(rtrbm.VH, ax=ax[0, 0])\n",
    "sns.heatmap(rtrbm_original.W, ax=ax[0, 1])\n",
    "sns.heatmap(rtrbm.HH, ax=ax[1, 0])\n",
    "sns.heatmap(rtrbm_original.W_acc, ax=ax[1, 1])\n",
    "\n",
    "\n",
    "\n"
   ],
   "metadata": {
    "collapsed": false,
    "pycharm": {
     "name": "#%%\n",
     "is_executing": true
    }
   }
  },
  {
   "cell_type": "code",
   "execution_count": null,
   "outputs": [],
   "source": [
    "import os\n",
    "import torch\n",
    "list = []\n",
    "path = r'C:\\Users\\sebas\\OneDrive\\Intern\\rtrbm_master\\results\\Investigating batchsize CAD'\n",
    "\n",
    "for filename in os.listdir(path):\n",
    "   newpath = os.path.join(path, filename)\n",
    "   list += [torch.load(newpath, map_location='cpu')]\n"
   ],
   "metadata": {
    "collapsed": false,
    "pycharm": {
     "name": "#%%\n",
     "is_executing": true
    }
   }
  },
  {
   "cell_type": "code",
   "execution_count": null,
   "outputs": [],
   "source": [
    "# Import data\n",
    "\n",
    "# Note that all the RTRBM combined are larger than 80 GB of space -> Therefore only look at subsets\n",
    "\n",
    "map_location = 'cuda'\n",
    "N_H = [1, 3, 6, 9, 12, 18, 24, 30, 2, 6, 12, 18, 24, 36, 48, 60, 4, 12, 24, 36, 48, 72, 96, 120, 8, 24, 48, 72, 96, 144, 192]\n",
    "N_V = [200, 600, 1200, 1800, 2400, 3600, 4800, 5400]\n",
    "batchsize = [10, 50, 100, 250, 500, 750, 1000]\n",
    "nr = [0, 1, 2]\n",
    "T = 50\n",
    "\n",
    "for i in N_H:\n",
    "    for j in N_V:\n",
    "        for b in batchsize:\n",
    "            for n in nr:\n",
    "                name_rtrbm = r'\\rtrbm_' +str(i) + '_' + str(j) + '_' + str(b)+ '_' + str(n)\n",
    "                name_original_rtrbm = r'\\rtrbm_or_' +str(i) + '_' + str(j) + '_' + str(b)+ '_' + str(n)\n",
    "                path = r'C:\\Users\\sebas\\OneDrive\\Intern\\rtrbm_master\\results\\Investigating batchsize CAD'\n",
    "                if os.path.exists(path + name_rtrbm) or os.path.exists(path + name_original_rtrbm):\n",
    "                    print(path + name_rtrbm)\n",
    "                    rtrbm = torch.load(path + name_rtrbm, map_location=map_location)\n",
    "                    rtrbm_original = torch.load(path + name_original_rtrbm, map_location=map_location)\n",
    "                    print(i, j, b, n)\n",
    "                    plt.plot(torch.tensor(rtrbm.errors, device='cpu'))\n"
   ],
   "metadata": {
    "collapsed": false,
    "pycharm": {
     "name": "#%%\n"
    }
   }
  },
  {
   "cell_type": "code",
   "execution_count": null,
   "outputs": [],
   "source": [
    "fig, ax = plt.subplots(2,1, figsize=(14, 10))\n",
    "\n",
    "for i in N_H:\n",
    "    for j in N_V:\n",
    "        for b in batchsize:\n",
    "            for n in nr:\n",
    "                name_rtrbm = 'rtrbm_' +str(N_H[i]) + '_' + str(N_V[j]) + '_' + str(batchsize[b])+ '_' + str(nr[n])\n",
    "                name_original_rtrbm = 'rtrbm_or_' + str(N_H[i]) + '_' + str(N_V[i]) + '_' + str(batchsize[i])+ '_' + str(nr)\n",
    "\n",
    "                if path(name_original_rtrbm).is_file or path(name_rtrbm).is_file():\n",
    "                    rtrbm = torch.load(r'C:\\Users\\sebas\\OneDrive\\Intern\\rtrbm_master\\results\\invertigating batchsize' + name_rtrbm, map_location=map_location)\n",
    "                    rtrbm_original = torch.load(r'C:\\Users\\sebas\\OneDrive\\Intern\\rtrbm_master\\results\\invertigating batchsize' + name_original_rtrbm, map_location=map_location)\n",
    "\n",
    "                    W_original = rtrbm_original.W.detach().clone()\n",
    "                    W_train = rtrbm.VH.detach().clone()\n",
    "                    W_acc_original = rtrbm_original.W_acc.detach().clone()\n",
    "                    W_acc_train = rtrbm.HH.detach().clone()\n",
    "\n",
    "                    corr = np.zeros((N_H, N_H))\n",
    "                    shuffle_idx = np.zeros((N_H))\n",
    "                    for i in range(N_H):\n",
    "                        for j in range(N_H):\n",
    "                            corr[i, j] = np.correlate(W_original[i,:], W_train[j,:])\n",
    "                        shuffle_idx[i] = np.argmax(corr[i,:])\n",
    "\n",
    "                    W_train = W_train[shuffle_idx, :]\n",
    "                    W_acc_train = W_acc_train[shuffle_idx, :]\n",
    "                    W_acc_train = W_acc_train[:, shuffle_idx]\n",
    "\n",
    "                    _, _, r_VH, _, _ = linregress(W_original.ravel(), W_train.ravel())\n",
    "                    _, _, r_HH, _, _ = linregress(W_acc_original.ravel(), W_acc_train.ravel())\n",
    "\n",
    "                    ax[0].scatter(batchsize[b], r_VH, c='k')\n",
    "                    ax[0].set_xlabel('batchsize')\n",
    "                    ax[0].set_ylabel('Pearson corr VH')\n",
    "\n",
    "                    ax[1].scatter(batchsize[b], r_HH, c='k')\n",
    "                    ax[1].set_xlabel('batchsize')\n",
    "                    ax[1].set_ylabel('Pearson corr VH')\n"
   ],
   "metadata": {
    "collapsed": false,
    "pycharm": {
     "name": "#%%\n"
    }
   }
  }
 ],
 "metadata": {
  "kernelspec": {
   "name": "pycharm-6341b653",
   "language": "python",
   "display_name": "PyCharm (intern)"
  },
  "language_info": {
   "codemirror_mode": {
    "name": "ipython",
    "version": 2
   },
   "file_extension": ".py",
   "mimetype": "text/x-python",
   "name": "python",
   "nbconvert_exporter": "python",
   "pygments_lexer": "ipython2",
   "version": "2.7.6"
  }
 },
 "nbformat": 4,
 "nbformat_minor": 0
}