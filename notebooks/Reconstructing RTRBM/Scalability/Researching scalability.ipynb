{
 "cells": [
  {
   "cell_type": "code",
   "execution_count": 1,
   "id": "5e847c98",
   "metadata": {},
   "outputs": [
    {
     "data": {
      "text/plain": [
       "\"\\nto dump:\\n\\npath = os.path.dirname(os.getcwd())\\npickle.dump(rtrbm, open(path + '\\\\results\\\\RTRBMs\\\\RTRBMs1', 'wb'))\\n\\nto load:\\n\\n\\ncheck1 = pickle.load(open(path + '\\\\results\\\\RTRBMs\\\\RTRBMs1', 'rb'))\\n\""
      ]
     },
     "execution_count": 1,
     "metadata": {},
     "output_type": "execute_result"
    }
   ],
   "source": [
    "import torch\n",
    "import numpy as np\n",
    "from tqdm import tqdm\n",
    "from scipy.stats.distributions import chi2\n",
    "from scipy.stats import pearsonr\n",
    "import pickle\n",
    "\n",
    "import matplotlib.pyplot as plt\n",
    "from scipy.stats import linregress\n",
    "import seaborn as sns\n",
    "import random\n",
    "import matplotlib.animation as animation\n",
    "import sys, os\n",
    "\n",
    "path = os.path.dirname(os.getcwd())\n",
    "sys.path.append(path)\n",
    "\n",
    "from utils.plots import *\n",
    "from utils.funcs import *\n",
    "from utils.visualize_network import *\n",
    "from utils.visualize_hidden_network import *\n",
    "\n",
    "from boltzmann_machines.RTRBM_ import RTRBM as RTRBM_\n",
    "from boltzmann_machines.RTRBM import RTRBM\n",
    "from boltzmann_machines.RTRBM_no_bias import RTRBM_nobias\n",
    "from boltzmann_machines.RBM import RBM\n",
    "\n",
    "from data.load_data import *\n",
    "from data.mock_data import *\n",
    "from data.reshape_data import *\n",
    "\n",
    "# spikes, behavior, coordinates, df, stimulus = loaddata()\n",
    "\n",
    "\"\"\"\n",
    "to dump:\n",
    "\n",
    "path = os.path.dirname(os.getcwd())\n",
    "pickle.dump(rtrbm, open(path + '\\\\results\\\\RTRBMs\\\\RTRBMs1', 'wb'))\n",
    "\n",
    "to load:\n",
    "\n",
    "\n",
    "check1 = pickle.load(open(path + '\\\\results\\\\RTRBMs\\\\RTRBMs1', 'rb'))\n",
    "\"\"\""
   ]
  },
  {
   "cell_type": "markdown",
   "id": "5e02893f",
   "metadata": {},
   "source": [
    "How many batches are nessesary to reproduce the weights with a pearson correlation of > 0.95"
   ]
  },
  {
   "cell_type": "code",
   "execution_count": 2,
   "id": "61440659",
   "metadata": {},
   "outputs": [],
   "source": [
    "def init_rtrbm_and_sample(N_V, N_H, T, n_batches):\n",
    "    # Initialize original RTRBM\n",
    "\n",
    "    min = -1\n",
    "    max = 1\n",
    "\n",
    "    W = (min - max) * torch.rand((N_H, N_V), dtype=torch.float) + max\n",
    "    W_acc = (min - max) * torch.rand((N_H, N_H), dtype=torch.float) + max\n",
    "    b_init = torch.zeros(1, N_H, dtype=torch.float)\n",
    "    b_V = torch.zeros(1, N_V, dtype=torch.float)\n",
    "    b_H = torch.zeros(1, N_H, dtype=torch.float)\n",
    "\n",
    "    data = torch.zeros(N_V, T, dtype=torch.float)\n",
    "\n",
    "    rtrbm = RTRBM(data, N_H=N_H, device='cpu')\n",
    "    rtrbm.W = W\n",
    "    rtrbm.W_acc = W_acc\n",
    "    rtrbm.b_init = b_init\n",
    "    rtrbm.b_V = b_V\n",
    "    rtrbm.b_H = b_H\n",
    "    \n",
    "    data = torch.zeros(N_V, T, n_batches)\n",
    "    rt = torch.zeros(N_H, T, n_batches)\n",
    "    for batch in range(n_batches):\n",
    "        v_start = (torch.rand(N_V) > 0.2)*1.0\n",
    "        data[:, :, batch], rt[:, :, batch] = rtrbm.sample(v_start.type(torch.float), chain=T, pre_gibbs_k=100, gibbs_k=100, mode=1, disable_tqdm=True)\n",
    "        \n",
    "    return data, rtrbm"
   ]
  },
  {
   "cell_type": "code",
   "execution_count": 3,
   "id": "56e1d2f1",
   "metadata": {},
   "outputs": [
    {
     "name": "stderr",
     "output_type": "stream",
     "text": [
      "\r",
      "  0%|                                                                                            | 0/8 [00:00<?, ?it/s]"
     ]
    },
    {
     "name": "stdout",
     "output_type": "stream",
     "text": [
      "500\n"
     ]
    },
    {
     "name": "stderr",
     "output_type": "stream",
     "text": [
      "  0%|                                                                                            | 0/8 [08:42<?, ?it/s]\n"
     ]
    },
    {
     "ename": "KeyboardInterrupt",
     "evalue": "",
     "output_type": "error",
     "traceback": [
      "\u001b[1;31m---------------------------------------------------------------------------\u001b[0m",
      "\u001b[1;31mKeyboardInterrupt\u001b[0m                         Traceback (most recent call last)",
      "\u001b[1;32m~\\AppData\\Local\\Temp/ipykernel_20784/1881229752.py\u001b[0m in \u001b[0;36m<module>\u001b[1;34m\u001b[0m\n\u001b[0;32m     18\u001b[0m \u001b[1;33m\u001b[0m\u001b[0m\n\u001b[0;32m     19\u001b[0m         \u001b[0mrtrbm_\u001b[0m \u001b[1;33m=\u001b[0m \u001b[0mRTRBM_\u001b[0m\u001b[1;33m(\u001b[0m\u001b[0mdata\u001b[0m\u001b[1;33m,\u001b[0m \u001b[0mN_H\u001b[0m\u001b[1;33m=\u001b[0m\u001b[0mN_H\u001b[0m\u001b[1;33m,\u001b[0m \u001b[0mdevice\u001b[0m\u001b[1;33m=\u001b[0m\u001b[1;34m'cpu'\u001b[0m\u001b[1;33m)\u001b[0m\u001b[1;33m\u001b[0m\u001b[1;33m\u001b[0m\u001b[0m\n\u001b[1;32m---> 20\u001b[1;33m         \u001b[0mrtrbm_\u001b[0m\u001b[1;33m.\u001b[0m\u001b[0mlearn\u001b[0m\u001b[1;33m(\u001b[0m\u001b[0mmax_epochs\u001b[0m\u001b[1;33m=\u001b[0m\u001b[1;36m100\u001b[0m\u001b[1;33m,\u001b[0m \u001b[0mbatchsize\u001b[0m\u001b[1;33m=\u001b[0m\u001b[1;36m1\u001b[0m\u001b[1;33m,\u001b[0m \u001b[0mCDk\u001b[0m\u001b[1;33m=\u001b[0m\u001b[1;36m10\u001b[0m\u001b[1;33m,\u001b[0m \u001b[0mlr\u001b[0m\u001b[1;33m=\u001b[0m\u001b[1;36m1e-4\u001b[0m\u001b[1;33m,\u001b[0m \u001b[0mmom\u001b[0m\u001b[1;33m=\u001b[0m\u001b[1;36m0.9\u001b[0m\u001b[1;33m,\u001b[0m \u001b[0mwc\u001b[0m\u001b[1;33m=\u001b[0m\u001b[1;36m0.0002\u001b[0m\u001b[1;33m)\u001b[0m\u001b[1;33m\u001b[0m\u001b[1;33m\u001b[0m\u001b[0m\n\u001b[0m\u001b[0;32m     21\u001b[0m \u001b[1;33m\u001b[0m\u001b[0m\n\u001b[0;32m     22\u001b[0m         \u001b[0mrtrbm_list\u001b[0m\u001b[1;33m.\u001b[0m\u001b[0mappend\u001b[0m\u001b[1;33m(\u001b[0m\u001b[0mrtrbm_\u001b[0m\u001b[1;33m)\u001b[0m\u001b[1;33m\u001b[0m\u001b[1;33m\u001b[0m\u001b[0m\n",
      "\u001b[1;32m~\\OneDrive\\Intern\\rtrbm_master\\boltzmann_machines\\RTRBM_.py\u001b[0m in \u001b[0;36mlearn\u001b[1;34m(self, max_epochs, batchsize, CDk, PCD, lr, lr_end, start_decay, sp, x, mom, wc, AF, HH_normalisation)\u001b[0m\n\u001b[0;32m    101\u001b[0m \u001b[1;33m\u001b[0m\u001b[0m\n\u001b[0;32m    102\u001b[0m                     \u001b[1;31m# use data (normal Contrastive Divergence)\u001b[0m\u001b[1;33m\u001b[0m\u001b[1;33m\u001b[0m\u001b[0m\n\u001b[1;32m--> 103\u001b[1;33m                     \u001b[0mbarht\u001b[0m\u001b[1;33m,\u001b[0m \u001b[0mbarvt\u001b[0m\u001b[1;33m,\u001b[0m \u001b[0mht_k\u001b[0m\u001b[1;33m,\u001b[0m \u001b[0mvt_k\u001b[0m \u001b[1;33m=\u001b[0m \u001b[0mself\u001b[0m\u001b[1;33m.\u001b[0m\u001b[0mCD\u001b[0m\u001b[1;33m(\u001b[0m\u001b[0mvt\u001b[0m\u001b[1;33m,\u001b[0m \u001b[0mrt\u001b[0m\u001b[1;33m,\u001b[0m \u001b[0mCDk\u001b[0m\u001b[1;33m,\u001b[0m \u001b[0mAF\u001b[0m\u001b[1;33m=\u001b[0m\u001b[0mAF\u001b[0m\u001b[1;33m)\u001b[0m\u001b[1;33m\u001b[0m\u001b[1;33m\u001b[0m\u001b[0m\n\u001b[0m\u001b[0;32m    104\u001b[0m \u001b[1;33m\u001b[0m\u001b[0m\n\u001b[0;32m    105\u001b[0m                     \u001b[0mself\u001b[0m\u001b[1;33m.\u001b[0m\u001b[0mvt_k\u001b[0m \u001b[1;33m=\u001b[0m \u001b[0mvt_k\u001b[0m\u001b[1;33m[\u001b[0m\u001b[1;33m:\u001b[0m\u001b[1;33m,\u001b[0m \u001b[1;33m:\u001b[0m\u001b[1;33m,\u001b[0m \u001b[1;33m-\u001b[0m\u001b[1;36m1\u001b[0m\u001b[1;33m]\u001b[0m\u001b[1;33m\u001b[0m\u001b[1;33m\u001b[0m\u001b[0m\n",
      "\u001b[1;32m~\\OneDrive\\Intern\\rtrbm_master\\boltzmann_machines\\RTRBM_.py\u001b[0m in \u001b[0;36mCD\u001b[1;34m(self, vt, rt, CDk, AF)\u001b[0m\n\u001b[0;32m    139\u001b[0m         \u001b[0mht_k\u001b[0m \u001b[1;33m=\u001b[0m \u001b[0mtorch\u001b[0m\u001b[1;33m.\u001b[0m\u001b[0mzeros\u001b[0m\u001b[1;33m(\u001b[0m\u001b[0mself\u001b[0m\u001b[1;33m.\u001b[0m\u001b[0mN_H\u001b[0m\u001b[1;33m,\u001b[0m \u001b[0mself\u001b[0m\u001b[1;33m.\u001b[0m\u001b[0mT\u001b[0m\u001b[1;33m,\u001b[0m \u001b[0mCDk\u001b[0m\u001b[1;33m,\u001b[0m \u001b[0mdtype\u001b[0m\u001b[1;33m=\u001b[0m\u001b[0mself\u001b[0m\u001b[1;33m.\u001b[0m\u001b[0mdtype\u001b[0m\u001b[1;33m,\u001b[0m \u001b[0mdevice\u001b[0m\u001b[1;33m=\u001b[0m\u001b[0mself\u001b[0m\u001b[1;33m.\u001b[0m\u001b[0mdevice\u001b[0m\u001b[1;33m)\u001b[0m\u001b[1;33m\u001b[0m\u001b[1;33m\u001b[0m\u001b[0m\n\u001b[0;32m    140\u001b[0m         \u001b[0mprobht_k\u001b[0m \u001b[1;33m=\u001b[0m \u001b[0mtorch\u001b[0m\u001b[1;33m.\u001b[0m\u001b[0mzeros\u001b[0m\u001b[1;33m(\u001b[0m\u001b[0mself\u001b[0m\u001b[1;33m.\u001b[0m\u001b[0mN_H\u001b[0m\u001b[1;33m,\u001b[0m \u001b[0mself\u001b[0m\u001b[1;33m.\u001b[0m\u001b[0mT\u001b[0m\u001b[1;33m,\u001b[0m \u001b[0mCDk\u001b[0m\u001b[1;33m,\u001b[0m \u001b[0mdtype\u001b[0m\u001b[1;33m=\u001b[0m\u001b[0mself\u001b[0m\u001b[1;33m.\u001b[0m\u001b[0mdtype\u001b[0m\u001b[1;33m,\u001b[0m \u001b[0mdevice\u001b[0m\u001b[1;33m=\u001b[0m\u001b[0mself\u001b[0m\u001b[1;33m.\u001b[0m\u001b[0mdevice\u001b[0m\u001b[1;33m)\u001b[0m\u001b[1;33m\u001b[0m\u001b[1;33m\u001b[0m\u001b[0m\n\u001b[1;32m--> 141\u001b[1;33m         \u001b[0mvt_k\u001b[0m \u001b[1;33m=\u001b[0m \u001b[0mtorch\u001b[0m\u001b[1;33m.\u001b[0m\u001b[0mzeros\u001b[0m\u001b[1;33m(\u001b[0m\u001b[0mself\u001b[0m\u001b[1;33m.\u001b[0m\u001b[0mN_V\u001b[0m\u001b[1;33m,\u001b[0m \u001b[0mself\u001b[0m\u001b[1;33m.\u001b[0m\u001b[0mT\u001b[0m\u001b[1;33m,\u001b[0m \u001b[0mCDk\u001b[0m\u001b[1;33m,\u001b[0m \u001b[0mdtype\u001b[0m\u001b[1;33m=\u001b[0m\u001b[0mself\u001b[0m\u001b[1;33m.\u001b[0m\u001b[0mdtype\u001b[0m\u001b[1;33m,\u001b[0m \u001b[0mdevice\u001b[0m\u001b[1;33m=\u001b[0m\u001b[0mself\u001b[0m\u001b[1;33m.\u001b[0m\u001b[0mdevice\u001b[0m\u001b[1;33m)\u001b[0m\u001b[1;33m\u001b[0m\u001b[1;33m\u001b[0m\u001b[0m\n\u001b[0m\u001b[0;32m    142\u001b[0m \u001b[1;33m\u001b[0m\u001b[0m\n\u001b[0;32m    143\u001b[0m         \u001b[0mvt_k\u001b[0m\u001b[1;33m[\u001b[0m\u001b[1;33m:\u001b[0m\u001b[1;33m,\u001b[0m \u001b[1;33m:\u001b[0m\u001b[1;33m,\u001b[0m \u001b[1;36m0\u001b[0m\u001b[1;33m]\u001b[0m \u001b[1;33m=\u001b[0m \u001b[0mvt\u001b[0m\u001b[1;33m.\u001b[0m\u001b[0mdetach\u001b[0m\u001b[1;33m(\u001b[0m\u001b[1;33m)\u001b[0m\u001b[1;33m\u001b[0m\u001b[1;33m\u001b[0m\u001b[0m\n",
      "\u001b[1;31mKeyboardInterrupt\u001b[0m: "
     ]
    }
   ],
   "source": [
    "N_V = 20\n",
    "T = 30\n",
    "N_H = 3\n",
    "\n",
    "max_epoch = 1000\n",
    "n_rtrbms = 2\n",
    "rtrbm_list_batchsize = []\n",
    "rtrbm_original_list_batchsize = []\n",
    "\n",
    "for batchsize in tqdm([10, 50, 100, 150, 200, 250, 350, 500][::-1]):\n",
    "    print(batchsize)\n",
    "    rtrbm_list = []\n",
    "    rtrbm_original_list = []\n",
    "    \n",
    "    for _ in range(n_rtrbms):\n",
    "        \n",
    "        data, rtrbm = init_rtrbm_and_sample(N_V=N_V, N_H=N_H, T=T, n_batches=batchsize)\n",
    "        \n",
    "        rtrbm_ = RTRBM_(data, N_H=N_H, device='cpu')\n",
    "        rtrbm_.learn(max_epochs=100, batchsize=1, CDk=10, lr=1e-4, mom=0.9, wc=0.0002)\n",
    "        \n",
    "        rtrbm_list.append(rtrbm_)\n",
    "        rtrbm_original_list.append(rtrbm)\n",
    "        \n",
    "    rtrbm_list_batchsize.append(rtrbm_list) \n",
    "    rtrbm_original_list_batchsize.append(rtrbm_original_list)   \n",
    "        \n",
    "    \n",
    "# Calculate Pearson correlation of the trained weights\n",
    "\n"
   ]
  },
  {
   "cell_type": "code",
   "execution_count": null,
   "id": "46fece2d",
   "metadata": {},
   "outputs": [],
   "source": [
    "n_batches = len(rtrbm_original_list_batchsize)\n",
    "n_rtrbms = len(rtrbm_original_list_batchsize[0])\n",
    "r_VH = torch.zeros([n_batches, n_rtrbms])\n",
    "r_HH = torch.zeros([n_batches, n_rtrbms])\n",
    "\n",
    "for batch in tqdm(range(n_batches)):\n",
    "    for m in range(n_rtrbms):\n",
    "        W_original = rtrbm_original_list_batchsize[batch][m].VH.detach().clone()\n",
    "        W_train = rtrbm_list_batchsize[batch][m].VH.detach().clone()\n",
    "        W_acc_original = rtrbm_original_list_batchsize[batch][m].HH.detach().clone()\n",
    "        W_acc_train = rtrbm_original_list_batchsize[batch][m].HH.detach().clone()\n",
    "\n",
    "        corr = np.zeros((N_H, N_H))\n",
    "        shuffle_idx = np.zeros((N_H))\n",
    "        for i in range(N_H):\n",
    "            for j in range(N_H):\n",
    "                corr[i, j] = np.correlate(W_original[i,:], W_train[j,:])\n",
    "            shuffle_idx[i] = np.argmax(corr[i,:])\n",
    "\n",
    "        W_train = W_train[shuffle_idx, :]    \n",
    "        W_acc_train = W_acc_train[shuffle_idx, :]\n",
    "        W_acc_train = W_acc_train[:, shuffle_idx]\n",
    "\n",
    "        _, _, r_VH[batch, m], _, _ = linregress(W_original.ravel(), W_train.ravel())\n",
    "        _, _, r_HH[batch, m], _, _ = linregress(W_acc_original.ravel(), W_acc_train.ravel())\n",
    "        \n",
    "print(r_VH, r_HH)"
   ]
  },
  {
   "cell_type": "code",
   "execution_count": null,
   "id": "bca2da43",
   "metadata": {},
   "outputs": [],
   "source": []
  },
  {
   "cell_type": "code",
   "execution_count": null,
   "id": "3d4db195",
   "metadata": {},
   "outputs": [],
   "source": []
  },
  {
   "cell_type": "code",
   "execution_count": null,
   "id": "fa18525c",
   "metadata": {},
   "outputs": [],
   "source": []
  }
 ],
 "metadata": {
  "kernelspec": {
   "display_name": "Python 3 (ipykernel)",
   "language": "python",
   "name": "python3"
  },
  "language_info": {
   "codemirror_mode": {
    "name": "ipython",
    "version": 3
   },
   "file_extension": ".py",
   "mimetype": "text/x-python",
   "name": "python",
   "nbconvert_exporter": "python",
   "pygments_lexer": "ipython3",
   "version": "3.9.7"
  }
 },
 "nbformat": 4,
 "nbformat_minor": 5
}
