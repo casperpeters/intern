{
 "cells": [
  {
   "cell_type": "markdown",
   "metadata": {
    "collapsed": true,
    "pycharm": {
     "name": "#%% md\n"
    }
   },
   "source": [
    "# How to sample surrogate data\n",
    "\n",
    "In this thesis we have define two types of surrogate date, the 'reconstruct and RTRBM' surrgate data and the\n",
    "Poisson Mother Train (PMT) surrogate data.\n",
    "\n",
    "import libraries"
   ]
  },
  {
   "cell_type": "code",
   "execution_count": 25,
   "outputs": [],
   "source": [
    "import torch\n",
    "from tqdm import tqdm\n",
    "import numpy as np\n",
    "import seaborn\n",
    "import matplotlib.pyplot as plt\n",
    "from boltzmann_machines.cp_rtrbm import RTRBM\n",
    "from boltzmann_machines.RBM import RBM\n",
    "\n",
    "from utils.plots import plot_weights, raster_plot, plot_reconstruction_error, plot_rtrbm_reestimate_weights\n",
    "from utils.moments_plot import infer_and_get_moments_plot\n",
    "from utils.map_hidden_structure import MapHiddenStructure\n",
    "\n",
    "from data.rtrbm_data import get_rtrbm_data\n",
    "from data.poisson_data import poisson_data"
   ],
   "metadata": {
    "collapsed": false,
    "pycharm": {
     "name": "#%%\n"
    }
   }
  },
  {
   "cell_type": "markdown",
   "source": [
    "# Reconstruct an RTRBM\n",
    "\n",
    "The procedure behind reconstruct an RTRBM data is\n",
    "* Initialize RTRBM with partially random weights\n",
    "* Weights are initialized such that\n",
    "    * Each hidden unit(HU) is most strongly connected to one population of visibles\n",
    "    * HUs can also be less strongly connected to other populations\n",
    "    * The norm of $W$ is roughly equal to negative norm $U$: $\\sum_{i} W_{\\mu i} \\approx - \\sum_{\\mu'} U_{\\mu' \\mu}$ , such that we have a more dynamical hidden trace\n",
    "* Use Gibbs samples from the RTRBM where the biases are zero and the weights are initialized with the partially random weights to construct a dataset\n",
    "* Train another RTRBM on this dataset to confirm if the RTRBM is able to reconstruct the original RTRBM"
   ],
   "metadata": {
    "collapsed": false,
    "pycharm": {
     "name": "#%% md\n"
    }
   }
  },
  {
   "cell_type": "code",
   "execution_count": 79,
   "outputs": [
    {
     "name": "stderr",
     "output_type": "stream",
     "text": [
      "100%|██████████| 300/300 [01:59<00:00,  2.51it/s]\n"
     ]
    },
    {
     "data": {
      "text/plain": "<AxesSubplot:title={'center':'Spiking pattern'}, xlabel='time', ylabel='# neuron'>"
     },
     "execution_count": 79,
     "metadata": {},
     "output_type": "execute_result"
    },
    {
     "data": {
      "text/plain": "<Figure size 720x288 with 4 Axes>",
      "image/png": "[encoded data removed]"
     },
     "metadata": {
      "needs_background": "light"
     },
     "output_type": "display_data"
    },
    {
     "data": {
      "text/plain": "<Figure size 1080x288 with 1 Axes>",
      "image/png": "[encoded data removed]"
     },
     "metadata": {
      "needs_background": "light"
     },
     "output_type": "display_data"
    }
   ],
   "source": [
    "resample = True\n",
    "dir_path = r'C:\\Users\\sebas\\OneDrive\\Intern\\rtrbm_master'\n",
    "\n",
    "n_batches = 300\n",
    "N_H, N_V, T = 3, 20, 50\n",
    "\n",
    "if resample:\n",
    "    rtrbm_original, data, _ = get_rtrbm_data(N_H=N_H, N_V=N_V, T=T, n_batches=n_batches, pre_gibbs_k=100, gibbs_k=100, mode=1, show_figure=True)\n",
    "else:\n",
    "    rtrbm_original, data = torch.load('...')\n",
    "    plot_weights(rtrbm_original.W.cpu(), rtrbm_original.U.cpu())\n",
    "\n",
    "raster_plot(data[..., 0], figsize=(15, 4), title='Spiking pattern')"
   ],
   "metadata": {
    "collapsed": false,
    "pycharm": {
     "name": "#%%\n"
    }
   }
  },
  {
   "cell_type": "markdown",
   "source": [
    "Now train an rtrbm on this dataset and compare the weights"
   ],
   "metadata": {
    "collapsed": false,
    "pycharm": {
     "name": "#%% md\n"
    }
   }
  },
  {
   "cell_type": "code",
   "execution_count": null,
   "outputs": [
    {
     "name": "stderr",
     "output_type": "stream",
     "text": [
      " 27%|██▋       | 266/1000 [06:21<16:35,  1.36s/it]"
     ]
    }
   ],
   "source": [
    "retrain = True\n",
    "\n",
    "if retrain:\n",
    "    rtrbm_reconstruct = RTRBM(data, N_H=N_H, device='cpu', no_bias=True, debug_mode=False)\n",
    "    rtrbm_reconstruct.learn(n_epochs=1000, lr_schedule='linear_decay', batch_size=10, CDk=10, mom=0.9, wc=0.0002, min_lr=5e-4, max_lr=5e-3)\n",
    "else:\n",
    "    rtrbm_reconstruct = torch.load('...')\n",
    "\n",
    "plot_reconstruction_error(rtrbm_reconstruct.errors, figsize=(8, 5))\n",
    "plot_rtrbm_reestimate_weights(rtrbm_original, rtrbm_reconstruct)"
   ],
   "metadata": {
    "collapsed": false,
    "pycharm": {
     "name": "#%%\n",
     "is_executing": true
    }
   }
  },
  {
   "cell_type": "code",
   "execution_count": null,
   "outputs": [],
   "source": [
    "torch.save([rtrbm_original, data],r'C:\\Users\\sebas\\OneDrive\\Intern\\rtrbm_master\\results\\Paper\\Surrogate_data\\Reconstruct_RTRBM\\rtrbm_original_&_data')\n",
    "torch.save(rtrbm_reconstruct,r'C:\\Users\\sebas\\OneDrive\\Intern\\rtrbm_master\\results\\Paper\\Surrogate_data\\Reconstruct_RTRBM\\rtrbm_reconstruct')"
   ],
   "metadata": {
    "collapsed": false,
    "pycharm": {
     "name": "#%%\n",
     "is_executing": true
    }
   }
  },
  {
   "cell_type": "markdown",
   "source": [
    "# Poisson mother train\n",
    "\n",
    "The procedure behind PMT data is\n",
    "* Define $n_{pop}$ different neuron populations\n",
    "* Sample for each population a poisson mother train for a given random time-dependent firing rate\n",
    "* Define spatial correlations within each population and define temporal correlations from population to population\n",
    "* Let neurons in the same population have the same spike mother train\n",
    "* Add or delete spikes according to spatial and temporal correlations across all neurons"
   ],
   "metadata": {
    "collapsed": false,
    "pycharm": {
     "name": "#%% md\n"
    }
   }
  },
  {
   "cell_type": "code",
   "execution_count": null,
   "outputs": [],
   "source": [
    "resample = False\n",
    "\n",
    "if resample:\n",
    "    data = poisson_data(n_batches=300, n_pop=5, n_per_pop=20, fr=.1, T=100, correlation=.8, snr=20)\n",
    "else:\n",
    "    data = torch.load('...')\n",
    "\n",
    "raster_plot(data[..., 0], figsize=(15, 4), title='Spiking pattern')"
   ],
   "metadata": {
    "collapsed": false,
    "pycharm": {
     "name": "#%%\n",
     "is_executing": true
    }
   }
  },
  {
   "cell_type": "code",
   "execution_count": null,
   "outputs": [],
   "source": [
    "if resample:\n",
    "    rtrbm = RTRBM(data, N_H=N_H, device='cpu', no_bias=False, debug_mode=False)\n",
    "    rtrbm.learn(n_epochs=1000, lr_schedule='linear_decay', batch_size=10, CDk=15, mom=0.9, wc=0.0002, min_lr=5e-4, max_lr=5e-3)\n",
    "    rbm = RTRBM(data, N_H=N_H, device='cpu', no_bias=False, debug_mode=False)\n",
    "    rbm.learn(n_epochs=1000, lr_schedule='linear_decay', batch_size=10, CDk=15, mom=0.9, wc=0.0002, min_lr=5e-4, max_lr=5e-3)\n",
    "else:\n",
    "    rtrbm = torch.load('...')\n",
    "    rbm = torch.load('...')\n",
    "\n",
    "_, ax = plt.subplots(1, 2, figsize=(8, 5))\n",
    "plot_reconstruction_error(rtrbm.errors, ax=ax[0], fs=12, title='Reconstruction error RTRBM')\n",
    "plot_reconstruction_error(rbm.errors, ax=ax[1], fs=12, title='Reconstruction error RBM')"
   ],
   "metadata": {
    "collapsed": false,
    "pycharm": {
     "name": "#%%\n"
    }
   }
  },
  {
   "cell_type": "markdown",
   "source": [
    "Compare how well the RBM and RTRBM perform on first and second order statistics with regard to the data"
   ],
   "metadata": {
    "collapsed": false,
    "pycharm": {
     "name": "#%% md\n"
    }
   }
  },
  {
   "cell_type": "code",
   "execution_count": null,
   "outputs": [],
   "source": [
    "_, _, _, _ = infer_and_get_moments_plot(rtrbm=rtrbm, pre_gibbs_k=100, gibbs_k=100, mode=1, n=1000, m=50000)\n",
    "_, _, _, _ = infer_and_get_moments_plot(rtrbm=rtrbm, pre_gibbs_k=100, gibbs_k=100, mode=1, n=1000, m=50000)"
   ],
   "metadata": {
    "collapsed": false,
    "pycharm": {
     "name": "#%%\n"
    }
   }
  },
  {
   "cell_type": "markdown",
   "source": [
    "Structural comparisons of RBM and RTRBM with their receptive fields, and for the RTRBM also the temporal dependencies"
   ],
   "metadata": {
    "collapsed": false,
    "pycharm": {
     "name": "#%% md\n"
    }
   }
  },
  {
   "cell_type": "code",
   "execution_count": null,
   "outputs": [],
   "source": [
    "_, ax = plt.subplots(1, 2, figsize=(8, 5))\n",
    "x_rbm = MapHiddenStructure(W=rbm.W)\n",
    "x_rtrbm = MapHiddenStructure(W=rtrbm.W, U=rtrbm.U)\n",
    "ax[0] = x_rbm.draw_final_structure()\n",
    "ax[1] = x_rtrbm.draw_final_structure()\n",
    "plt.show()"
   ],
   "metadata": {
    "collapsed": false,
    "pycharm": {
     "name": "#%%\n"
    }
   }
  }
 ],
 "metadata": {
  "kernelspec": {
   "name": "pycharm-6341b653",
   "language": "python",
   "display_name": "PyCharm (intern)"
  },
  "language_info": {
   "codemirror_mode": {
    "name": "ipython",
    "version": 2
   },
   "file_extension": ".py",
   "mimetype": "text/x-python",
   "name": "python",
   "nbconvert_exporter": "python",
   "pygments_lexer": "ipython2",
   "version": "2.7.6"
  }
 },
 "nbformat": 4,
 "nbformat_minor": 0
}