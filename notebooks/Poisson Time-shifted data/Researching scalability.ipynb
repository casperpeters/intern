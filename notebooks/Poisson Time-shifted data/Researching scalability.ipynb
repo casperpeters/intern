{
 "cells": [
  {
   "cell_type": "code",
   "execution_count": 1,
   "id": "5e847c98",
   "metadata": {},
   "outputs": [
    {
     "data": {
      "text/plain": "\"\\nto dump:\\n\\npath = os.path.dirname(os.getcwd())\\npickle.dump(rtrbm, open(path + '\\\\results\\\\RTRBMs\\\\RTRBMs1', 'wb'))\\n\\nto load:\\n\\n\\ncheck1 = pickle.load(open(path + '\\\\results\\\\RTRBMs\\\\RTRBMs1', 'rb'))\\n\""
     },
     "execution_count": 1,
     "metadata": {},
     "output_type": "execute_result"
    }
   ],
   "source": [
    "import torch\n",
    "import numpy as np\n",
    "from tqdm import tqdm\n",
    "from scipy.stats.distributions import chi2\n",
    "from scipy.stats import pearsonr\n",
    "import pickle\n",
    "\n",
    "import matplotlib.pyplot as plt\n",
    "from scipy.stats import linregress\n",
    "import seaborn as sns\n",
    "import random\n",
    "import matplotlib.animation as animation\n",
    "import sys, os\n",
    "\n",
    "path = os.path.dirname(os.getcwd())\n",
    "sys.path.append(path)\n",
    "\n",
    "from utils.plots import *\n",
    "from utils.funcs import *\n",
    "from utils.visualize_network import *\n",
    "from utils.visualize_hidden_network import *\n",
    "\n",
    "from boltzmann_machines.RTRBM_ import RTRBM as RTRBM_\n",
    "from boltzmann_machines.RTRBM import RTRBM\n",
    "from boltzmann_machines.RTRBM_no_bias import RTRBM_nobias\n",
    "from boltzmann_machines.RBM import RBM\n",
    "\n",
    "from data.load_data import *\n",
    "from data.mock_data import *\n",
    "from data.reshape_data import *\n",
    "\n",
    "# spikes, behavior, coordinates, df, stimulus = loaddata()\n",
    "\n",
    "\"\"\"\n",
    "to dump:\n",
    "\n",
    "path = os.path.dirname(os.getcwd())\n",
    "pickle.dump(rtrbm, open(path + '\\\\results\\\\RTRBMs\\\\RTRBMs1', 'wb'))\n",
    "\n",
    "to load:\n",
    "\n",
    "\n",
    "check1 = pickle.load(open(path + '\\\\results\\\\RTRBMs\\\\RTRBMs1', 'rb'))\n",
    "\"\"\""
   ]
  },
  {
   "cell_type": "markdown",
   "id": "5e02893f",
   "metadata": {},
   "source": [
    "How many batches are nessesary to accurately converge and to determine the underlying structure"
   ]
  },
  {
   "cell_type": "code",
   "execution_count": 3,
   "id": "61440659",
   "metadata": {},
   "outputs": [],
   "source": [
    "######## Simulation parameters ########\n",
    "neurons_per_pop = 20\n",
    "n_pop = 6\n",
    "n_batches = 1000\n",
    "T = 50\n",
    "mean_fr = .1\n",
    "\n",
    "######## Defining coordinate system ########\n",
    "rads = torch.linspace(0, 2*torch.pi, n_pop+1)\n",
    "mean_locations_pop = torch.zeros(n_pop, 2)\n",
    "coordinates = torch.zeros(neurons_per_pop*n_pop, 2)\n",
    "for i in range(n_pop):\n",
    "    mean_locations_pop[i, :] = torch.tensor([torch.cos(rads[i]), torch.sin(rads[i])])\n",
    "    coordinates[neurons_per_pop * i:neurons_per_pop * (i + 1), :] = 0.15 * torch.randn(neurons_per_pop, 2) + mean_locations_pop[i]\n",
    "\n",
    "######## Start creating data ########\n",
    "Data = torch.zeros(neurons_per_pop*n_pop, T, n_batches)\n",
    "for batch in range(n_batches):\n",
    "\n",
    "    ######## Creating random input currents and mother trains ########\n",
    "    t = np.linspace(0, 10*np.pi, T)\n",
    "    fr = np.zeros((n_pop, T))\n",
    "    mother = np.zeros((n_pop, T))\n",
    "    for pop in range(n_pop):\n",
    "        u = np.random.rand()\n",
    "        phase = np.random.randn()\n",
    "        amp = .1*np.random.rand()\n",
    "        shift = .3*np.random.rand()\n",
    "        fr[pop, :] = amp*np.sin(phase*(t + 2*np.pi*u)) + shift\n",
    "        while np.min(fr[pop, :]) < 0:\n",
    "            u = np.random.rand()\n",
    "            phase = np.random.randn()\n",
    "            amp = .1*np.random.rand()\n",
    "            shift = .3*np.random.rand()\n",
    "            fr[pop, :] = amp*np.sin(phase*(t + 2*np.pi*u)) + shift\n",
    "        mother[pop, :] = np.random.poisson(fr[pop, :])\n",
    "\n",
    "\n",
    "    # empty data array\n",
    "    spikes = np.zeros((neurons_per_pop*n_pop, T))\n",
    "\n",
    "    # Excitatory and inhibitory connections\n",
    "    inh = [[0, 1, 2], [0, 1, 2], [0, 1, 2], [0, 1, 2], [0, 1, 2], [0, 1, 2]]\n",
    "    exc = [[3, 4, 5], [3, 4, 5], [3, 4, 5], [3, 4, 5], [3, 4, 5], [3, 4, 5]]\n",
    "    for pop in range(n_pop):\n",
    "        delete_spikes = np.roll(np.sum(fr[inh[pop], :], 0), 1) * np.ones((neurons_per_pop, T)) >= np.random.uniform(0, 1, size=(neurons_per_pop, T))\n",
    "        noise = np.random.poisson(np.roll(np.sum(fr[exc[pop], :], 0), 1), (neurons_per_pop, T))\n",
    "        temp = np.tile(mother[pop, :], (neurons_per_pop, 1)) - delete_spikes + noise\n",
    "        spikes[pop*neurons_per_pop:(pop+1)*neurons_per_pop, :] = temp[np.argsort(np.mean(temp, 1)), :]\n",
    "    spikes[spikes < 0] = 0\n",
    "    spikes[spikes > 1] = 1\n",
    "\n",
    "    Data[:, :, batch] = torch.tensor(spikes)"
   ]
  },
  {
   "cell_type": "code",
   "execution_count": 3,
   "id": "56e1d2f1",
   "metadata": {},
   "outputs": [
    {
     "name": "stderr",
     "output_type": "stream",
     "text": [
      "\r",
      "  0%|                                                                                            | 0/8 [00:00<?, ?it/s]"
     ]
    },
    {
     "name": "stdout",
     "output_type": "stream",
     "text": [
      "500\n"
     ]
    },
    {
     "name": "stderr",
     "output_type": "stream",
     "text": [
      "  0%|                                                                                            | 0/8 [08:42<?, ?it/s]\n"
     ]
    },
    {
     "ename": "KeyboardInterrupt",
     "evalue": "",
     "output_type": "error",
     "traceback": [
      "\u001B[1;31m---------------------------------------------------------------------------\u001B[0m",
      "\u001B[1;31mKeyboardInterrupt\u001B[0m                         Traceback (most recent call last)",
      "\u001B[1;32m~\\AppData\\Local\\Temp/ipykernel_20784/1881229752.py\u001B[0m in \u001B[0;36m<module>\u001B[1;34m\u001B[0m\n\u001B[0;32m     18\u001B[0m \u001B[1;33m\u001B[0m\u001B[0m\n\u001B[0;32m     19\u001B[0m         \u001B[0mrtrbm_\u001B[0m \u001B[1;33m=\u001B[0m \u001B[0mRTRBM_\u001B[0m\u001B[1;33m(\u001B[0m\u001B[0mdata\u001B[0m\u001B[1;33m,\u001B[0m \u001B[0mN_H\u001B[0m\u001B[1;33m=\u001B[0m\u001B[0mN_H\u001B[0m\u001B[1;33m,\u001B[0m \u001B[0mdevice\u001B[0m\u001B[1;33m=\u001B[0m\u001B[1;34m'cpu'\u001B[0m\u001B[1;33m)\u001B[0m\u001B[1;33m\u001B[0m\u001B[1;33m\u001B[0m\u001B[0m\n\u001B[1;32m---> 20\u001B[1;33m         \u001B[0mrtrbm_\u001B[0m\u001B[1;33m.\u001B[0m\u001B[0mlearn\u001B[0m\u001B[1;33m(\u001B[0m\u001B[0mmax_epochs\u001B[0m\u001B[1;33m=\u001B[0m\u001B[1;36m100\u001B[0m\u001B[1;33m,\u001B[0m \u001B[0mbatchsize\u001B[0m\u001B[1;33m=\u001B[0m\u001B[1;36m1\u001B[0m\u001B[1;33m,\u001B[0m \u001B[0mCDk\u001B[0m\u001B[1;33m=\u001B[0m\u001B[1;36m10\u001B[0m\u001B[1;33m,\u001B[0m \u001B[0mlr\u001B[0m\u001B[1;33m=\u001B[0m\u001B[1;36m1e-4\u001B[0m\u001B[1;33m,\u001B[0m \u001B[0mmom\u001B[0m\u001B[1;33m=\u001B[0m\u001B[1;36m0.9\u001B[0m\u001B[1;33m,\u001B[0m \u001B[0mwc\u001B[0m\u001B[1;33m=\u001B[0m\u001B[1;36m0.0002\u001B[0m\u001B[1;33m)\u001B[0m\u001B[1;33m\u001B[0m\u001B[1;33m\u001B[0m\u001B[0m\n\u001B[0m\u001B[0;32m     21\u001B[0m \u001B[1;33m\u001B[0m\u001B[0m\n\u001B[0;32m     22\u001B[0m         \u001B[0mrtrbm_list\u001B[0m\u001B[1;33m.\u001B[0m\u001B[0mappend\u001B[0m\u001B[1;33m(\u001B[0m\u001B[0mrtrbm_\u001B[0m\u001B[1;33m)\u001B[0m\u001B[1;33m\u001B[0m\u001B[1;33m\u001B[0m\u001B[0m\n",
      "\u001B[1;32m~\\OneDrive\\Intern\\rtrbm_master\\boltzmann_machines\\RTRBM_.py\u001B[0m in \u001B[0;36mlearn\u001B[1;34m(self, max_epochs, batchsize, CDk, PCD, lr, lr_end, start_decay, sp, x, mom, wc, AF, HH_normalisation)\u001B[0m\n\u001B[0;32m    101\u001B[0m \u001B[1;33m\u001B[0m\u001B[0m\n\u001B[0;32m    102\u001B[0m                     \u001B[1;31m# use data (normal Contrastive Divergence)\u001B[0m\u001B[1;33m\u001B[0m\u001B[1;33m\u001B[0m\u001B[0m\n\u001B[1;32m--> 103\u001B[1;33m                     \u001B[0mbarht\u001B[0m\u001B[1;33m,\u001B[0m \u001B[0mbarvt\u001B[0m\u001B[1;33m,\u001B[0m \u001B[0mht_k\u001B[0m\u001B[1;33m,\u001B[0m \u001B[0mvt_k\u001B[0m \u001B[1;33m=\u001B[0m \u001B[0mself\u001B[0m\u001B[1;33m.\u001B[0m\u001B[0mCD\u001B[0m\u001B[1;33m(\u001B[0m\u001B[0mvt\u001B[0m\u001B[1;33m,\u001B[0m \u001B[0mrt\u001B[0m\u001B[1;33m,\u001B[0m \u001B[0mCDk\u001B[0m\u001B[1;33m,\u001B[0m \u001B[0mAF\u001B[0m\u001B[1;33m=\u001B[0m\u001B[0mAF\u001B[0m\u001B[1;33m)\u001B[0m\u001B[1;33m\u001B[0m\u001B[1;33m\u001B[0m\u001B[0m\n\u001B[0m\u001B[0;32m    104\u001B[0m \u001B[1;33m\u001B[0m\u001B[0m\n\u001B[0;32m    105\u001B[0m                     \u001B[0mself\u001B[0m\u001B[1;33m.\u001B[0m\u001B[0mvt_k\u001B[0m \u001B[1;33m=\u001B[0m \u001B[0mvt_k\u001B[0m\u001B[1;33m[\u001B[0m\u001B[1;33m:\u001B[0m\u001B[1;33m,\u001B[0m \u001B[1;33m:\u001B[0m\u001B[1;33m,\u001B[0m \u001B[1;33m-\u001B[0m\u001B[1;36m1\u001B[0m\u001B[1;33m]\u001B[0m\u001B[1;33m\u001B[0m\u001B[1;33m\u001B[0m\u001B[0m\n",
      "\u001B[1;32m~\\OneDrive\\Intern\\rtrbm_master\\boltzmann_machines\\RTRBM_.py\u001B[0m in \u001B[0;36mCD\u001B[1;34m(self, vt, rt, CDk, AF)\u001B[0m\n\u001B[0;32m    139\u001B[0m         \u001B[0mht_k\u001B[0m \u001B[1;33m=\u001B[0m \u001B[0mtorch\u001B[0m\u001B[1;33m.\u001B[0m\u001B[0mzeros\u001B[0m\u001B[1;33m(\u001B[0m\u001B[0mself\u001B[0m\u001B[1;33m.\u001B[0m\u001B[0mN_H\u001B[0m\u001B[1;33m,\u001B[0m \u001B[0mself\u001B[0m\u001B[1;33m.\u001B[0m\u001B[0mT\u001B[0m\u001B[1;33m,\u001B[0m \u001B[0mCDk\u001B[0m\u001B[1;33m,\u001B[0m \u001B[0mdtype\u001B[0m\u001B[1;33m=\u001B[0m\u001B[0mself\u001B[0m\u001B[1;33m.\u001B[0m\u001B[0mdtype\u001B[0m\u001B[1;33m,\u001B[0m \u001B[0mdevice\u001B[0m\u001B[1;33m=\u001B[0m\u001B[0mself\u001B[0m\u001B[1;33m.\u001B[0m\u001B[0mdevice\u001B[0m\u001B[1;33m)\u001B[0m\u001B[1;33m\u001B[0m\u001B[1;33m\u001B[0m\u001B[0m\n\u001B[0;32m    140\u001B[0m         \u001B[0mprobht_k\u001B[0m \u001B[1;33m=\u001B[0m \u001B[0mtorch\u001B[0m\u001B[1;33m.\u001B[0m\u001B[0mzeros\u001B[0m\u001B[1;33m(\u001B[0m\u001B[0mself\u001B[0m\u001B[1;33m.\u001B[0m\u001B[0mN_H\u001B[0m\u001B[1;33m,\u001B[0m \u001B[0mself\u001B[0m\u001B[1;33m.\u001B[0m\u001B[0mT\u001B[0m\u001B[1;33m,\u001B[0m \u001B[0mCDk\u001B[0m\u001B[1;33m,\u001B[0m \u001B[0mdtype\u001B[0m\u001B[1;33m=\u001B[0m\u001B[0mself\u001B[0m\u001B[1;33m.\u001B[0m\u001B[0mdtype\u001B[0m\u001B[1;33m,\u001B[0m \u001B[0mdevice\u001B[0m\u001B[1;33m=\u001B[0m\u001B[0mself\u001B[0m\u001B[1;33m.\u001B[0m\u001B[0mdevice\u001B[0m\u001B[1;33m)\u001B[0m\u001B[1;33m\u001B[0m\u001B[1;33m\u001B[0m\u001B[0m\n\u001B[1;32m--> 141\u001B[1;33m         \u001B[0mvt_k\u001B[0m \u001B[1;33m=\u001B[0m \u001B[0mtorch\u001B[0m\u001B[1;33m.\u001B[0m\u001B[0mzeros\u001B[0m\u001B[1;33m(\u001B[0m\u001B[0mself\u001B[0m\u001B[1;33m.\u001B[0m\u001B[0mN_V\u001B[0m\u001B[1;33m,\u001B[0m \u001B[0mself\u001B[0m\u001B[1;33m.\u001B[0m\u001B[0mT\u001B[0m\u001B[1;33m,\u001B[0m \u001B[0mCDk\u001B[0m\u001B[1;33m,\u001B[0m \u001B[0mdtype\u001B[0m\u001B[1;33m=\u001B[0m\u001B[0mself\u001B[0m\u001B[1;33m.\u001B[0m\u001B[0mdtype\u001B[0m\u001B[1;33m,\u001B[0m \u001B[0mdevice\u001B[0m\u001B[1;33m=\u001B[0m\u001B[0mself\u001B[0m\u001B[1;33m.\u001B[0m\u001B[0mdevice\u001B[0m\u001B[1;33m)\u001B[0m\u001B[1;33m\u001B[0m\u001B[1;33m\u001B[0m\u001B[0m\n\u001B[0m\u001B[0;32m    142\u001B[0m \u001B[1;33m\u001B[0m\u001B[0m\n\u001B[0;32m    143\u001B[0m         \u001B[0mvt_k\u001B[0m\u001B[1;33m[\u001B[0m\u001B[1;33m:\u001B[0m\u001B[1;33m,\u001B[0m \u001B[1;33m:\u001B[0m\u001B[1;33m,\u001B[0m \u001B[1;36m0\u001B[0m\u001B[1;33m]\u001B[0m \u001B[1;33m=\u001B[0m \u001B[0mvt\u001B[0m\u001B[1;33m.\u001B[0m\u001B[0mdetach\u001B[0m\u001B[1;33m(\u001B[0m\u001B[1;33m)\u001B[0m\u001B[1;33m\u001B[0m\u001B[1;33m\u001B[0m\u001B[0m\n",
      "\u001B[1;31mKeyboardInterrupt\u001B[0m: "
     ]
    }
   ],
   "source": [
    "N_V = 20\n",
    "T = 30\n",
    "N_H = 3\n",
    "\n",
    "max_epoch = 1000\n",
    "n_rtrbms = 2\n",
    "rtrbm_list_batchsize = []\n",
    "rtrbm_original_list_batchsize = []\n",
    "\n",
    "for batchsize in tqdm([10, 50, 100, 150, 200, 250, 350, 500][::-1]):\n",
    "    print(batchsize)\n",
    "    rtrbm_list = []\n",
    "    rtrbm_original_list = []\n",
    "    \n",
    "    for _ in range(n_rtrbms):\n",
    "        data = Data[:, :, np.random.permutation(n_batches)[:batchsize]]\n",
    "        rtrbm_ = RTRBM(data, N_H=N_H, device='cpu')\n",
    "        rtrbm_.learn(max_epochs=100, batchsize=1, CDk=10, lr=1e-4, mom=0.9, wc=0.0002)\n",
    "        \n",
    "        rtrbm_list.append(rtrbm_)\n",
    "        rtrbm_original_list.append(rtrbm)\n",
    "        \n",
    "    rtrbm_list_batchsize.append(rtrbm_list) \n",
    "    rtrbm_original_list_batchsize.append(rtrbm_original_list)   \n",
    "        \n",
    "    \n",
    "# Calculate Pearson correlation of the trained weights\n",
    "\n"
   ]
  },
  {
   "cell_type": "code",
   "execution_count": null,
   "id": "46fece2d",
   "metadata": {},
   "outputs": [],
   "source": [
    "n_batches = len(rtrbm_original_list_batchsize)\n",
    "n_rtrbms = len(rtrbm_original_list_batchsize[0])\n",
    "r_VH = torch.zeros([n_batches, n_rtrbms])\n",
    "r_HH = torch.zeros([n_batches, n_rtrbms])\n",
    "\n",
    "for batch in tqdm(range(n_batches)):\n",
    "    for m in range(n_rtrbms):\n",
    "        W_original = rtrbm_original_list_batchsize[batch][m].VH.detach().clone()\n",
    "        W_train = rtrbm_list_batchsize[batch][m].VH.detach().clone()\n",
    "        W_acc_original = rtrbm_original_list_batchsize[batch][m].HH.detach().clone()\n",
    "        W_acc_train = rtrbm_original_list_batchsize[batch][m].HH.detach().clone()\n",
    "\n",
    "        corr = np.zeros((N_H, N_H))\n",
    "        shuffle_idx = np.zeros((N_H))\n",
    "        for i in range(N_H):\n",
    "            for j in range(N_H):\n",
    "                corr[i, j] = np.correlate(W_original[i,:], W_train[j,:])\n",
    "            shuffle_idx[i] = np.argmax(corr[i,:])\n",
    "\n",
    "        W_train = W_train[shuffle_idx, :]    \n",
    "        W_acc_train = W_acc_train[shuffle_idx, :]\n",
    "        W_acc_train = W_acc_train[:, shuffle_idx]\n",
    "\n",
    "        _, _, r_VH[batch, m], _, _ = linregress(W_original.ravel(), W_train.ravel())\n",
    "        _, _, r_HH[batch, m], _, _ = linregress(W_acc_original.ravel(), W_acc_train.ravel())\n",
    "        \n",
    "print(r_VH, r_HH)"
   ]
  },
  {
   "cell_type": "code",
   "execution_count": null,
   "id": "bca2da43",
   "metadata": {},
   "outputs": [],
   "source": []
  },
  {
   "cell_type": "code",
   "execution_count": null,
   "id": "3d4db195",
   "metadata": {},
   "outputs": [],
   "source": []
  },
  {
   "cell_type": "code",
   "execution_count": null,
   "id": "fa18525c",
   "metadata": {},
   "outputs": [],
   "source": []
  }
 ],
 "metadata": {
  "kernelspec": {
   "name": "pycharm-6341b653",
   "language": "python",
   "display_name": "PyCharm (intern)"
  },
  "language_info": {
   "codemirror_mode": {
    "name": "ipython",
    "version": 3
   },
   "file_extension": ".py",
   "mimetype": "text/x-python",
   "name": "python",
   "nbconvert_exporter": "python",
   "pygments_lexer": "ipython3",
   "version": "3.9.7"
  }
 },
 "nbformat": 4,
 "nbformat_minor": 5
}