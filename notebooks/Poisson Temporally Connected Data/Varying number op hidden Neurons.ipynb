{
 "cells": [
  {
   "cell_type": "markdown",
   "source": [
    "## What is the impact of varying the number of hidden neurons, when ou rdata has 10 populations? One would expect a spike of reconstructions quality at 10 hiddens."
   ],
   "metadata": {
    "collapsed": false,
    "pycharm": {
     "name": "#%% md\n"
    }
   }
  },
  {
   "cell_type": "markdown",
   "source": [
    "Imports"
   ],
   "metadata": {
    "collapsed": false
   }
  },
  {
   "cell_type": "code",
   "execution_count": null,
   "outputs": [],
   "source": [
    "import matplotlib.pyplot as plt\n",
    "import torch\n",
    "from scipy.stats import pearsonr\n",
    "from tqdm import tqdm\n",
    "\n",
    "from data.reshape_data import reshape, reshape_from_batches\n",
    "from data.poisson_data_v import PoissonTimeShiftedData\n",
    "from utils.funcs import pairwise_moments, get_reconstruction_mean_pairwise_correlations\n",
    "from boltzmann_machines.cp_rtrbm import RTRBM"
   ],
   "metadata": {
    "collapsed": false,
    "pycharm": {
     "name": "#%%\n"
    }
   }
  },
  {
   "cell_type": "markdown",
   "source": [
    "Simulation parameters"
   ],
   "metadata": {
    "collapsed": false,
    "pycharm": {
     "name": "#%% md\n"
    }
   }
  },
  {
   "cell_type": "code",
   "execution_count": null,
   "outputs": [],
   "source": [
    "n_v = 100\n",
    "n_h = 10\n",
    "delay = 1  # temporal dynamics\n",
    "frequency_range = [5, 10]\n",
    "phase_range = [0, torch.pi]\n",
    "amplitude_range = [0.4, 0.5]\n",
    "\n",
    "hiddens_range = [2, 5, 8, 10, 12, 15, 20]\n",
    "N = 3  # number of RTRBMs per run"
   ],
   "metadata": {
    "collapsed": false,
    "pycharm": {
     "name": "#%%\n"
    }
   }
  },
  {
   "cell_type": "code",
   "execution_count": null,
   "outputs": [],
   "source": [
    "rtrbm_list = []\n",
    "rec_errors = torch.zeros(len(hiddens_range), N)\n",
    "rec_corr = torch.zeros(len(hiddens_range), N)\n",
    "mean_corr = torch.zeros(len(hiddens_range), N)\n",
    "pw_corr = torch.zeros(len(hiddens_range), N)\n",
    "\n",
    "for i, n_hidden in tqdm(enumerate(hiddens_range)):\n",
    "\n",
    "    for n in range(N):\n",
    "\n",
    "        # initialize random temporal connections\n",
    "        temporal_connections = torch.randn(n_h, n_h) / n_h\n",
    "\n",
    "        # get data\n",
    "        gaus = PoissonTimeShiftedData(\n",
    "            neurons_per_population=n_v//n_h, n_populations=n_h, n_batches=1, time_steps_per_batch=35000,\n",
    "            fr_mode='gaussian', delay=delay, temporal_connections=temporal_connections, norm=1,\n",
    "            frequency_range=frequency_range, amplitude_range=amplitude_range, phase_range=phase_range\n",
    "        )\n",
    "\n",
    "        # split data in train and test set\n",
    "        data = reshape(gaus.data[..., 0], T=100, n_batches=350)\n",
    "        train, test = data[..., :280], data[..., 280:]\n",
    "\n",
    "        # initialize and train RTRBM\n",
    "        rtrbm = RTRBM(train, N_H=n_hidden, device=\"cpu\", debug_mode=False)\n",
    "        rtrbm.learn(batch_size=10, n_epochs=200, max_lr=1e-3, min_lr=8e-4, lr_schedule='geometric_decay', CDk=10, mom=0.6, wc=0.0002, sp=0, x=1, disable_tqdm=True)\n",
    "\n",
    "        # perform a plot to test if simulation went well\n",
    "        if i == 0 and n == 0:\n",
    "            fig, ax = plt.subplots(1, 4, figsize=(16, 4))\n",
    "            ax[0].plot(rtrbm.errors)\n",
    "            ax[0].set_xlabel('Epochs')\n",
    "            ax[0].set_ylabel('RMSE')\n",
    "            ax[1].imshow(gaus.temporal_connections, aspect='auto', cmap=plt.get_cmap('RdYlGn'))\n",
    "            ax[1].set_title('True hidden connections')\n",
    "            cm = ax[2].imshow(rtrbm.U, aspect='auto', cmap=plt.get_cmap('RdYlGn'))\n",
    "            fig.colorbar(cm, ax=ax[2])\n",
    "            ax[2].set_title('rtrbm.U')\n",
    "            cm = ax[3].imshow(rtrbm.W, aspect='auto', cmap=plt.get_cmap('RdYlGn'))\n",
    "            fig.colorbar(cm, ax=ax[3])\n",
    "            ax[3].set_title('rtrbm.W')\n",
    "\n",
    "            plt.show()\n",
    "\n",
    "        # infer over all test batches\n",
    "        T, n_batches = test.shape[1], test.shape[2]\n",
    "        vs = torch.zeros(n_v, T, n_batches)\n",
    "        for batch in range(n_batches):\n",
    "            vs[:, :, batch], _ = rtrbm.infer(test[:, :T//2, batch], mode=1, pre_gibbs_k=100, gibbs_k=100, disable_tqdm=True)\n",
    "\n",
    "        # save rec error and correlations\n",
    "        rec_errors[i, n] = torch.mean((vs[:, :T//2, :] - test[:, :T//2, :])**2)\n",
    "        rec_corr[i, n], mean_corr[i, n], pw_corr[i, n] = get_reconstruction_mean_pairwise_correlations(test[:, T//2:, :], vs[:, T//2:, :])\n",
    "\n",
    "        # save rtrbm temporarily in list\n",
    "        rtrbm_list += [rtrbm]"
   ],
   "metadata": {
    "collapsed": false,
    "pycharm": {
     "name": "#%%\n"
    }
   }
  },
  {
   "cell_type": "code",
   "execution_count": null,
   "outputs": [],
   "source": [
    "for i, rtrbm in tqdm(enumerate(rtrbm_list)):\n",
    "\n",
    "    T, n_batches = test.shape[1], test.shape[2]\n",
    "    vs = torch.zeros(n_v, T, n_batches)\n",
    "    for batch in range(n_batches):\n",
    "        vs[:, :, batch], _ = rtrbm.infer(test[:, :T//2, batch], mode=1, pre_gibbs_k=100, gibbs_k=100, disable_tqdm=True)\n",
    "\n",
    "    # save rec error and correlations\n",
    "    rec_errors[i // 3, i % 3] = torch.mean((vs[:, T//2:, :] - test[:, T//2:, :])**2)\n",
    "    rec_corr[i // 3, i % 3], mean_corr[i // 3, i % 3], pw_corr[i // 3, i % 3] = get_reconstruction_mean_pairwise_correlations(test[:, T//2:, :], vs[:, T//2:, :])"
   ],
   "metadata": {
    "collapsed": false,
    "pycharm": {
     "name": "#%%\n"
    }
   }
  },
  {
   "cell_type": "code",
   "execution_count": null,
   "outputs": [],
   "source": [
    "vs_ = reshape_from_batches(vs)\n",
    "test_ = reshape_from_batches(test)\n",
    "true_pairwise = pairwise_moments(test_, test_).flatten()\n",
    "sampled_pairwise = pairwise_moments(vs_, vs_).flatten()\n",
    "\n",
    "fig, axes = plt.subplots(1, 4, figsize=(20, 4))\n",
    "\n",
    "axes[0].imshow(test[:, T//2:, 0], cmap=plt.get_cmap('binary'), aspect='auto')\n",
    "axes[1].imshow(vs[:, T//2:, 0], cmap=plt.get_cmap('binary'), aspect='auto')\n",
    "axes[2].plot(torch.mean(vs[:, T//2:, :], (1, 2)), torch.mean(test[:, T//2:, :], (1, 2)), '.')\n",
    "axes[3].plot(true_pairwise, sampled_pairwise, '.')\n",
    "\n",
    "axes[0].set_title('True (test) data', fontsize=18)\n",
    "axes[0].set_xlabel('Time', fontsize=16)\n",
    "axes[0].set_ylabel('$v$', fontsize=16)\n",
    "axes[1].set_title('Sampled data', fontsize=18)\n",
    "axes[1].set_xlabel('Time', fontsize=16)\n",
    "axes[1].set_ylabel('$v$', fontsize=16)\n",
    "axes[2].set_title('$<v_i>$', fontsize=18)\n",
    "axes[2].set_xlabel('True', fontsize=16)\n",
    "axes[2].set_ylabel('Sampled', fontsize=16)\n",
    "axes[3].set_title('$<v_iv_j>$', fontsize=18)\n",
    "axes[3].set_xlabel('True', fontsize=16)\n",
    "axes[3].set_ylabel('Sampled', fontsize=16)\n",
    "\n",
    "plt.tight_layout()\n",
    "plt.show()"
   ],
   "metadata": {
    "collapsed": false,
    "pycharm": {
     "name": "#%%\n"
    }
   }
  },
  {
   "cell_type": "code",
   "execution_count": null,
   "outputs": [],
   "source": [
    "fig, axes = plt.subplots(1, 3, figsize=(15, 4))\n",
    "\n",
    "axes[0].errorbar(hiddens_range, torch.mean(rec_errors, 1), torch.std(rec_errors, 1), linestyle='None', marker='.', markersize=10, capsize=3, ecolor='indianred')\n",
    "axes[1].errorbar(hiddens_range, torch.mean(mean_corr, 1), torch.std(mean_corr, 1), linestyle='None', marker='.', markersize=10, capsize=3, ecolor='indianred')\n",
    "axes[2].errorbar(hiddens_range, torch.mean(pw_corr, 1), torch.std(pw_corr, 1), linestyle='None', marker='.', markersize=10, capsize=3, ecolor='indianred')\n",
    "\n",
    "axes[0].set_title('Reconstruction errors', fontsize=18)\n",
    "axes[0].set_xlabel('Number of hidden units', fontsize=16)\n",
    "axes[1].set_title('First order correlations', fontsize=18)\n",
    "axes[1].set_xlabel('Number of hidden units', fontsize=16)\n",
    "axes[2].set_title('Second order correlations', fontsize=18)\n",
    "axes[2].set_xlabel('Number of hidden units', fontsize=16)\n",
    "\n",
    "for ax in axes:\n",
    "    ax.set_xticks(hiddens_range)\n",
    "\n",
    "plt.show()"
   ],
   "metadata": {
    "collapsed": false,
    "pycharm": {
     "name": "#%%\n"
    }
   }
  },
  {
   "cell_type": "markdown",
   "source": [
    "Reconstruction errors remain the same. First order correlations do not perform well because we have a very low range of firing rates. Second order correlation's performance plateau at 8-10 hidden neurons, as expected."
   ],
   "metadata": {
    "collapsed": false,
    "pycharm": {
     "name": "#%% md\n"
    }
   }
  }
 ],
 "metadata": {
  "kernelspec": {
   "display_name": "Python 3",
   "language": "python",
   "name": "python3"
  },
  "language_info": {
   "codemirror_mode": {
    "name": "ipython",
    "version": 2
   },
   "file_extension": ".py",
   "mimetype": "text/x-python",
   "name": "python",
   "nbconvert_exporter": "python",
   "pygments_lexer": "ipython2",
   "version": "2.7.6"
  }
 },
 "nbformat": 4,
 "nbformat_minor": 0
}