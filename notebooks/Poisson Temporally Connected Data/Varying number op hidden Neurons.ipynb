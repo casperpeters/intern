{
 "cells": [
  {
   "cell_type": "markdown",
   "source": [
    "Imports"
   ],
   "metadata": {
    "collapsed": false,
    "pycharm": {
     "name": "#%% md\n"
    }
   }
  },
  {
   "cell_type": "code",
   "execution_count": 1,
   "outputs": [],
   "source": [
    "import matplotlib.pyplot as plt\n",
    "import torch\n",
    "from scipy.stats import pearsonr\n",
    "from tqdm import tqdm\n",
    "\n",
    "from data.reshape_data import reshape, reshape_from_batches\n",
    "from data.poisson_data_v import PoissonTimeShiftedData\n",
    "from utils.funcs import pairwise_moments, get_reconstruction_mean_pairwise_correlations\n",
    "from boltzmann_machines.cp_rtrbm import RTRBM"
   ],
   "metadata": {
    "collapsed": false,
    "pycharm": {
     "name": "#%%\n"
    }
   }
  },
  {
   "cell_type": "markdown",
   "source": [
    "Simulation parameters"
   ],
   "metadata": {
    "collapsed": false,
    "pycharm": {
     "name": "#%% md\n"
    }
   }
  },
  {
   "cell_type": "code",
   "execution_count": 2,
   "outputs": [],
   "source": [
    "n_v = 100\n",
    "n_h = 10\n",
    "delay = 1  # temporal dynamics\n",
    "frequency_range = [5, 10]\n",
    "phase_range = [0, torch.pi]\n",
    "amplitude_range = [0.4, 0.5]\n",
    "\n",
    "hiddens_range = [2, 4, 6, 8, 10, 12, 14, 16, 18, 20]\n",
    "N = 5  # number of RTRBMs per run"
   ],
   "metadata": {
    "collapsed": false,
    "pycharm": {
     "name": "#%%\n"
    }
   }
  },
  {
   "cell_type": "code",
   "execution_count": null,
   "outputs": [
    {
     "name": "stderr",
     "output_type": "stream",
     "text": [
      "0it [00:00, ?it/s]"
     ]
    }
   ],
   "source": [
    "rtrbm_list = []\n",
    "rec_errors = torch.zeros(len(hiddens_range), N)\n",
    "rec_corr = torch.zeros(len(hiddens_range), N)\n",
    "mean_corr = torch.zeros(len(hiddens_range), N)\n",
    "pw_corr = torch.zeros(len(hiddens_range), N)\n",
    "\n",
    "for i, n_hidden in tqdm(enumerate(hiddens_range)):\n",
    "\n",
    "    for n in range(N):\n",
    "\n",
    "        # initialize random temporal connections\n",
    "        temporal_connections = torch.randn(n_h, n_h) / n_h\n",
    "\n",
    "        # get data\n",
    "        gaus = PoissonTimeShiftedData(\n",
    "            neurons_per_population=n_v//n_h, n_populations=n_h, n_batches=1, time_steps_per_batch=35000,\n",
    "            fr_mode='gaussian', delay=delay, temporal_connections=temporal_connections, norm=1,\n",
    "            frequency_range=frequency_range, amplitude_range=amplitude_range, phase_range=phase_range\n",
    "        )\n",
    "\n",
    "        # split data in train and test set\n",
    "        data = reshape(gaus.data[..., 0], T=100, n_batches=350)\n",
    "        train, test = data[..., :280], data[..., 280:]\n",
    "\n",
    "        # initialize and train RTRBM\n",
    "        rtrbm = RTRBM(train, N_H=n_hidden, device=\"cpu\", debug_mode=False)\n",
    "        rtrbm.learn(batch_size=10, n_epochs=2, max_lr=1e-3, min_lr=8e-4, lr_schedule='geometric_decay', CDk=10, mom=0.6, wc=0.0002, sp=0, x=1, disable_tqdm=True)\n",
    "\n",
    "        # perform a plot to test if simulation went well\n",
    "        if i == 0 and n == 0:\n",
    "            fig, ax = plt.subplots(1, 4, figsize=(16, 4))\n",
    "            ax[0].plot(rtrbm.errors)\n",
    "            ax[0].set_xlabel('Epochs')\n",
    "            ax[0].set_ylabel('RMSE')\n",
    "            ax[1].imshow(gaus.temporal_connections, aspect='auto', cmap=plt.get_cmap('RdYlGn'))\n",
    "            ax[1].set_title('True hidden connections')\n",
    "            cm = ax[2].imshow(rtrbm.U, aspect='auto', cmap=plt.get_cmap('RdYlGn'))\n",
    "            fig.colorbar(cm, ax=ax[2])\n",
    "            ax[2].set_title('rtrbm.U')\n",
    "            cm = ax[3].imshow(rtrbm.W, aspect='auto', cmap=plt.get_cmap('RdYlGn'))\n",
    "            fig.colorbar(cm, ax=ax[3])\n",
    "            ax[3].set_title('rtrbm.W')\n",
    "\n",
    "        # infer over all test batches\n",
    "        T, n_batches = test.shape[1], test.shape[2]\n",
    "        vs = torch.zeros(n_v, T, n_batches)\n",
    "        for batch in range(n_batches):\n",
    "            vs[:, :, batch], _ = rtrbm.infer(test[:, :T//2, batch], mode=1, pre_gibbs_k=100, gibbs_k=100, disable_tqdm=True)\n",
    "\n",
    "        # save rec error and correlations\n",
    "        rec_errors[i, n] = torch.mean((vs[:, :T//2, :] - test[:, :T//2, :])**2)\n",
    "        rec_corr[i, n], mean_corr[i, n], pw_corr[i, n] = get_reconstruction_mean_pairwise_correlations(test[:, T//2:, :], vs[:, T//2:, :])\n",
    "\n",
    "        # save rtrbm temporarily in list\n",
    "        rtrbm_list += [rtrbm]"
   ],
   "metadata": {
    "collapsed": false,
    "pycharm": {
     "name": "#%%\n",
     "is_executing": true
    }
   }
  },
  {
   "cell_type": "code",
   "execution_count": null,
   "outputs": [],
   "source": [],
   "metadata": {
    "collapsed": false,
    "pycharm": {
     "name": "#%%\n"
    }
   }
  }
 ],
 "metadata": {
  "kernelspec": {
   "display_name": "Python 3",
   "language": "python",
   "name": "python3"
  },
  "language_info": {
   "codemirror_mode": {
    "name": "ipython",
    "version": 2
   },
   "file_extension": ".py",
   "mimetype": "text/x-python",
   "name": "python",
   "nbconvert_exporter": "python",
   "pygments_lexer": "ipython2",
   "version": "2.7.6"
  }
 },
 "nbformat": 4,
 "nbformat_minor": 0
}