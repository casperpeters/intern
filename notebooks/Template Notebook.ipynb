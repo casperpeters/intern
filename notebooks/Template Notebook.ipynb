{
 "cells": [
  {
   "cell_type": "code",
   "execution_count": null,
   "id": "5e847c98",
   "metadata": {},
   "outputs": [],
   "source": [
    "import torch\n",
    "import numpy as np\n",
    "from tqdm import tqdm\n",
    "from scipy.stats.distributions import chi2\n",
    "from scipy.stats import pearsonr\n",
    "import pickle\n",
    "\n",
    "import matplotlib.pyplot as plt\n",
    "from scipy.stats import linregress\n",
    "import seaborn as sns\n",
    "import random\n",
    "import matplotlib.animation as animation\n",
    "import sys, os\n",
    "\n",
    "path = os.path.dirname(os.getcwd())\n",
    "sys.path.append(path)\n",
    "\n",
    "from utils.plots import *\n",
    "from utils.funcs import *\n",
    "from utils.visualize_network import *\n",
    "from utils.visualize_hidden_network import *\n",
    "\n",
    "from boltzmann_machines.RTRBM import RTRBM\n",
    "from boltzmann_machines.RBM import RBM\n",
    "\n",
    "from data.load_data import *\n",
    "from data.mock_data import *\n",
    "from data.reshape_data import *\n",
    "\n",
    "# spikes, behavior, coordinates, df, stimulus = loaddata()\n",
    "\n",
    "\"\"\"\n",
    "to dump:\n",
    "\n",
    "path = os.path.dirname(os.getcwd())\n",
    "pickle.dump(rtrbm, open(path + '\\\\results\\\\RTRBMs\\\\RTRBMs1', 'wb'))\n",
    "\n",
    "to load:\n",
    "\n",
    "check1 = pickle.load(open(path + '\\\\results\\\\RTRBMs\\\\RTRBMs1', 'rb'))\n",
    "\"\"\""
   ]
  }
 ],
 "metadata": {
  "kernelspec": {
   "display_name": "Python 3 (ipykernel)",
   "language": "python",
   "name": "python3"
  },
  "language_info": {
   "codemirror_mode": {
    "name": "ipython",
    "version": 3
   },
   "file_extension": ".py",
   "mimetype": "text/x-python",
   "name": "python",
   "nbconvert_exporter": "python",
   "pygments_lexer": "ipython3",
   "version": "3.9.7"
  }
 },
 "nbformat": 4,
 "nbformat_minor": 5
}
